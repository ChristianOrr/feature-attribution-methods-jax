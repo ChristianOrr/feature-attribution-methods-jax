{
 "cells": [
  {
   "cell_type": "markdown",
   "metadata": {},
   "source": [
    "# Integrated Gradients Attribution on MNIST\n",
    "\n",
    "The integrated gradients attribution method produces an image-specific class saliency map. This method is an adaptation of the \"gradients $\\times$ input\" method. Its slower than \"gradients $\\times$ input\" since it needs to calculate gradients for the input at many different scales, but provides better accuracy. It can be used with any classification model, since it only depends on the inputs gradients, not any gradients from the hidden layers.\n",
    "\n",
    "For more technical information on the integrated gradients attribution method see: [Axiomatic Attribution for Deep Networks](https://arxiv.org/abs/1703.01365)\n"
   ]
  },
  {
   "cell_type": "code",
   "execution_count": 31,
   "metadata": {},
   "outputs": [],
   "source": [
    "import os\n",
    "import numpy as np\n",
    "import pandas as pd\n",
    "import matplotlib.pyplot as plt\n",
    "import jax.numpy as jnp\n",
    "import flax\n",
    "import flax.linen as nn\n",
    "import jax\n",
    "from jax import random\n",
    "from jax import vmap\n",
    "from jax import grad\n",
    "from keras.utils import data_utils"
   ]
  },
  {
   "cell_type": "markdown",
   "metadata": {},
   "source": [
    "### Load training data\n",
    "Check if the training data exists. If not, automatically download it."
   ]
  },
  {
   "cell_type": "code",
   "execution_count": 32,
   "metadata": {},
   "outputs": [],
   "source": [
    "data_dir = os.path.abspath(\"./digit-recognizer\")\n",
    "os.makedirs(data_dir, exist_ok=True)\n",
    "train_data_path = f\"{data_dir}/train.zip\"\n",
    "train_data_url = \"https://huggingface.co/datasets/ChristianOrr/mnist/resolve/main/train.zip\"\n",
    "\n",
    "if not os.path.exists(train_data_path):\n",
    "    print(\"Downloading training data...\")\n",
    "    data_utils.get_file(\n",
    "        train_data_path, \n",
    "        train_data_url, \n",
    "        extract=True, \n",
    "        cache_dir=data_dir\n",
    "        )\n",
    "\n",
    "data_df = pd.read_csv('./digit-recognizer/datasets/train.csv')"
   ]
  },
  {
   "cell_type": "code",
   "execution_count": 33,
   "metadata": {},
   "outputs": [],
   "source": [
    "val_size = 1000\n",
    "# Only shuffle training data\n",
    "np.random.shuffle(data_df[val_size:].values)\n",
    "m, n = data_df.shape\n",
    "Y = jnp.array(data_df[\"label\"])\n",
    "data_df = data_df.drop(\"label\", axis=1)\n",
    "X = jnp.array(data_df)\n",
    "\n",
    "\n",
    "X_train = X[val_size:]\n",
    "X_train = X_train / 255.\n",
    "Y_train = Y[val_size:]\n",
    "\n",
    "X_val = X[:val_size]\n",
    "X_val = X_val / 255.\n",
    "Y_val = Y[:val_size]"
   ]
  },
  {
   "cell_type": "markdown",
   "metadata": {},
   "source": [
    "### Define the classification model"
   ]
  },
  {
   "cell_type": "code",
   "execution_count": 34,
   "metadata": {},
   "outputs": [
    {
     "name": "stdout",
     "output_type": "stream",
     "text": [
      "\n",
      "\u001b[3m                              _forward_fn Summary                               \u001b[0m\n",
      "┏━━━━━━━━━━━━━━┳━━━━━━━━━━━━━┳━━━━━━━━━━━━━━━━┳━━━━━━━━━━━━━━━┳━━━━━━━━━━━━━━━━┓\n",
      "┃\u001b[1m \u001b[0m\u001b[1mpath        \u001b[0m\u001b[1m \u001b[0m┃\u001b[1m \u001b[0m\u001b[1mmodule     \u001b[0m\u001b[1m \u001b[0m┃\u001b[1m \u001b[0m\u001b[1minputs        \u001b[0m\u001b[1m \u001b[0m┃\u001b[1m \u001b[0m\u001b[1moutputs      \u001b[0m\u001b[1m \u001b[0m┃\u001b[1m \u001b[0m\u001b[1mparams        \u001b[0m\u001b[1m \u001b[0m┃\n",
      "┡━━━━━━━━━━━━━━╇━━━━━━━━━━━━━╇━━━━━━━━━━━━━━━━╇━━━━━━━━━━━━━━━╇━━━━━━━━━━━━━━━━┩\n",
      "│              │ _forward_fn │ \u001b[2mfloat32\u001b[0m[5,784] │ \u001b[2mfloat32\u001b[0m[5,10] │                │\n",
      "├──────────────┼─────────────┼────────────────┼───────────────┼────────────────┤\n",
      "│ Sequential_0 │ Sequential  │ \u001b[2mfloat32\u001b[0m[5,784] │ \u001b[2mfloat32\u001b[0m[5,10] │                │\n",
      "├──────────────┼─────────────┼────────────────┼───────────────┼────────────────┤\n",
      "│ Dense_0      │ Dense       │ \u001b[2mfloat32\u001b[0m[5,784] │ \u001b[2mfloat32\u001b[0m[5,10] │ bias:          │\n",
      "│              │             │                │               │ \u001b[2mfloat32\u001b[0m[10]    │\n",
      "│              │             │                │               │ kernel:        │\n",
      "│              │             │                │               │ \u001b[2mfloat32\u001b[0m[784,1… │\n",
      "│              │             │                │               │                │\n",
      "│              │             │                │               │ \u001b[1m7,850 \u001b[0m\u001b[1;2m(31.4 \u001b[0m   │\n",
      "│              │             │                │               │ \u001b[1;2mKB)\u001b[0m            │\n",
      "├──────────────┼─────────────┼────────────────┼───────────────┼────────────────┤\n",
      "│ Dense_1      │ Dense       │ \u001b[2mfloat32\u001b[0m[5,10]  │ \u001b[2mfloat32\u001b[0m[5,10] │ bias:          │\n",
      "│              │             │                │               │ \u001b[2mfloat32\u001b[0m[10]    │\n",
      "│              │             │                │               │ kernel:        │\n",
      "│              │             │                │               │ \u001b[2mfloat32\u001b[0m[10,10] │\n",
      "│              │             │                │               │                │\n",
      "│              │             │                │               │ \u001b[1m110 \u001b[0m\u001b[1;2m(440 B)\u001b[0m    │\n",
      "├──────────────┼─────────────┼────────────────┼───────────────┼────────────────┤\n",
      "│\u001b[1m \u001b[0m\u001b[1m            \u001b[0m\u001b[1m \u001b[0m│\u001b[1m \u001b[0m\u001b[1m           \u001b[0m\u001b[1m \u001b[0m│\u001b[1m \u001b[0m\u001b[1m              \u001b[0m\u001b[1m \u001b[0m│\u001b[1m \u001b[0m\u001b[1m        Total\u001b[0m\u001b[1m \u001b[0m│\u001b[1m \u001b[0m\u001b[1m7,960 \u001b[0m\u001b[1;2m(31.8 \u001b[0m\u001b[1m  \u001b[0m\u001b[1m \u001b[0m│\n",
      "│\u001b[1m              \u001b[0m│\u001b[1m             \u001b[0m│\u001b[1m                \u001b[0m│\u001b[1m               \u001b[0m│\u001b[1m \u001b[0m\u001b[1;2mKB)\u001b[0m\u001b[1m           \u001b[0m\u001b[1m \u001b[0m│\n",
      "└──────────────┴─────────────┴────────────────┴───────────────┴────────────────┘\n",
      "\u001b[1m                                                                                \u001b[0m\n",
      "\u001b[1m                       Total Parameters: 7,960 \u001b[0m\u001b[1;2m(31.8 KB)\u001b[0m\u001b[1m                        \u001b[0m\n",
      "\n",
      "\n"
     ]
    }
   ],
   "source": [
    "class _forward_fn(nn.Module):\n",
    "\n",
    "    @nn.compact\n",
    "    def __call__(self, x):\n",
    "        mlp = nn.Sequential([\n",
    "            nn.Dense(10), jax.nn.relu,\n",
    "            nn.Dense(10), jax.nn.softmax        \n",
    "        ])\n",
    "        return mlp(x)\n",
    "\n",
    "# Create eh model object\n",
    "forward_fn = _forward_fn()\n",
    "# Display the model details\n",
    "dummy_x = X_train[:5]\n",
    "rng_key = random.PRNGKey(64)\n",
    "initial_params = forward_fn.init(rng_key, dummy_x)\n",
    "print(forward_fn.tabulate(rng_key, dummy_x))"
   ]
  },
  {
   "cell_type": "markdown",
   "metadata": {},
   "source": [
    "### Define the loss function and update method"
   ]
  },
  {
   "cell_type": "code",
   "execution_count": 35,
   "metadata": {},
   "outputs": [],
   "source": [
    "def one_hot(x, k, dtype=jnp.float32):\n",
    "    \"\"\"Create a one-hot encoding of x of size k.\"\"\"\n",
    "    return jnp.array(x[..., None] == jnp.arange(k), dtype)\n",
    "\n",
    "def loss_fn(params, X, Y):\n",
    "    logits = forward_fn.apply(params, X)\n",
    "    one_hot_Y = one_hot(Y, 10)\n",
    "    loss = -jnp.sum(one_hot_Y * jnp.log(logits)) / m\n",
    "    return loss\n",
    "\n",
    "\n",
    "def update_rule(params, update):\n",
    "    return params - 0.1 * update\n",
    "\n",
    "def update_params(params, alpha, X, Y):\n",
    "    grads = grad(loss_fn, argnums=0)(params, X, Y)\n",
    "    params = jax.tree_util.tree_map(update_rule, params, grads)\n",
    "    return params\n"
   ]
  },
  {
   "cell_type": "markdown",
   "metadata": {},
   "source": [
    "### Train the model"
   ]
  },
  {
   "cell_type": "code",
   "execution_count": 36,
   "metadata": {},
   "outputs": [],
   "source": [
    "def get_predictions(logits):\n",
    "    return jnp.argmax(logits, axis=1)\n",
    "\n",
    "def get_accuracy(predictions, Y):\n",
    "    return jnp.mean(predictions == Y)\n",
    "\n",
    "def gradient_descent(X, Y, alpha, iterations):\n",
    "    rng = jax.random.PRNGKey(42)\n",
    "    params = forward_fn.init(rng, X)\n",
    "    for i in range(iterations):\n",
    "        params = update_params(params, alpha, X, Y)\n",
    "        if i % 10 == 0:\n",
    "            print(\"Iteration: \", i)\n",
    "            logits = forward_fn.apply(params, X)\n",
    "            predictions = get_predictions(logits)\n",
    "            print(get_accuracy(predictions, Y))\n",
    "    return params"
   ]
  },
  {
   "cell_type": "code",
   "execution_count": 37,
   "metadata": {},
   "outputs": [
    {
     "name": "stdout",
     "output_type": "stream",
     "text": [
      "Iteration:  0\n",
      "0.103780486\n",
      "Iteration:  10\n",
      "0.36390242\n",
      "Iteration:  20\n",
      "0.4557073\n",
      "Iteration:  30\n",
      "0.52492684\n",
      "Iteration:  40\n",
      "0.5534878\n",
      "Iteration:  50\n",
      "0.59139025\n",
      "Iteration:  60\n",
      "0.6319024\n",
      "Iteration:  70\n",
      "0.6621707\n",
      "Iteration:  80\n",
      "0.68326825\n",
      "Iteration:  90\n",
      "0.70226824\n",
      "Iteration:  100\n",
      "0.71760976\n",
      "Iteration:  110\n",
      "0.73236585\n",
      "Iteration:  120\n",
      "0.74560976\n",
      "Iteration:  130\n",
      "0.7611951\n",
      "Iteration:  140\n",
      "0.77478045\n",
      "Iteration:  150\n",
      "0.7866829\n",
      "Iteration:  160\n",
      "0.795439\n",
      "Iteration:  170\n",
      "0.80202436\n",
      "Iteration:  180\n",
      "0.80826825\n",
      "Iteration:  190\n",
      "0.8137073\n",
      "Iteration:  200\n",
      "0.8189268\n",
      "Iteration:  210\n",
      "0.82275605\n",
      "Iteration:  220\n",
      "0.8270488\n",
      "Iteration:  230\n",
      "0.83131707\n",
      "Iteration:  240\n",
      "0.8345122\n",
      "Iteration:  250\n",
      "0.83763415\n",
      "Iteration:  260\n",
      "0.8410488\n",
      "Iteration:  270\n",
      "0.8441463\n",
      "Iteration:  280\n",
      "0.8468536\n",
      "Iteration:  290\n",
      "0.8494146\n",
      "Iteration:  300\n",
      "0.851439\n",
      "Iteration:  310\n",
      "0.8536341\n",
      "Iteration:  320\n",
      "0.8555366\n",
      "Iteration:  330\n",
      "0.858\n",
      "Iteration:  340\n",
      "0.8599512\n",
      "Iteration:  350\n",
      "0.86226827\n",
      "Iteration:  360\n",
      "0.86417073\n",
      "Iteration:  370\n",
      "0.86612195\n",
      "Iteration:  380\n",
      "0.8676829\n",
      "Iteration:  390\n",
      "0.8692927\n",
      "Iteration:  400\n",
      "0.8712439\n",
      "Iteration:  410\n",
      "0.87282926\n",
      "Iteration:  420\n",
      "0.8741707\n",
      "Iteration:  430\n",
      "0.87553656\n",
      "Iteration:  440\n",
      "0.87658536\n",
      "Iteration:  450\n",
      "0.8776829\n",
      "Iteration:  460\n",
      "0.87882924\n",
      "Iteration:  470\n",
      "0.87987804\n",
      "Iteration:  480\n",
      "0.88095117\n",
      "Iteration:  490\n",
      "0.8815609\n"
     ]
    }
   ],
   "source": [
    "params = gradient_descent(X_train, Y_train, 0, 500)"
   ]
  },
  {
   "cell_type": "markdown",
   "metadata": {},
   "source": [
    "### Create Integrated Gradients Function\n",
    "\n",
    "The integrated gradients function creates a baseline input with the same dimensions as the original input, and default values set to 0. Then a batch of scaled inputs are created by linearly increasing the values of the (input - baseline). The gradients are calculated for each scaled input image. Then the integral of the gradients are calculated using the trapezoidal rule (for trapezoid rule explanation see [Understanding the trapezoidal rule](https://www.khanacademy.org/math/ap-calculus-ab/ab-integration-new/ab-6-2/a/understanding-the-trapezoid-rule)). The integral is then multiplied by the (input - baseline) to provide the intrated gradients. The integraed gradient for the i'th pixel is provided below:\n",
    "\n",
    "$$IntegratedGrads_i(x) = (x_i - x'_i) \\times \\int_{\\alpha = 0}^1 \\frac{\\partial F(x' + \\alpha \\times (x - x'))}{\\partial x_i}   $$\n",
    ", where $i$ is the pixels index, $x$ is the input, $x'$ is the basesline, $\\alpha$ is the step size, $F$ is the classification neural network, and $\\frac{\\partial F(x)}{\\partial x_i}$ is the gradient of $F$ for the i'th pixel.\n",
    "\n",
    "In the function below the following variables are equal to the corresponding mathematical symbols:\n",
    " - inp = $x$\n",
    " - baseline = $x'$, \n",
    " - grads_integral = $\\int_{\\alpha = 0}^1 \\frac{\\partial F(x' + \\alpha \\times (x - x'))}{\\partial x}$\n",
    "\n",
    "The integrated gradients function below was adapted from [ankurtaly/Integrated-Gradients](https://github.com/ankurtaly/Integrated-Gradients)."
   ]
  },
  {
   "cell_type": "code",
   "execution_count": 38,
   "metadata": {},
   "outputs": [],
   "source": [
    "def integrated_gradients(\n",
    "    inp, \n",
    "    target_label_index,\n",
    "    batched_grad,\n",
    "    baseline=None,\n",
    "    steps=50):\n",
    "    \"\"\"Computes integrated gradients for a given network and prediction label.\n",
    "\n",
    "    Integrated gradients is a technique for attributing a deep network's\n",
    "    prediction to its input features. It was introduced by:\n",
    "    https://arxiv.org/abs/1703.01365\n",
    "\n",
    "    This method only applies to classification networks, i.e., networks \n",
    "    that predict a probability distribution across two or more class labels.\n",
    "\n",
    "    Access to the specific network is provided to the method via a\n",
    "    'batched_grad' function provided as argument to this method.\n",
    "    The function takes the network params, a batch of inputs and a label, \n",
    "    and returns the gradients of the prediction with respect to the input. \n",
    "\n",
    "    Args:\n",
    "        inp: The specific input for which integrated gradients must be computed.\n",
    "        target_label_index: Index of the target class for which integrated gradients\n",
    "            must be computed.\n",
    "        batched_grad: This function provides access to the\n",
    "            network's gradients. It takes the following arguments:\n",
    "                - params: The networks weights.\n",
    "                - inputs: A batch of tensors of the same shape as 'inp'. The first\n",
    "                    dimension is the batch dimension, and rest of the dimensions coincide\n",
    "                    with that of 'inp'.\n",
    "                - target_label_index: The index of the target class for which gradients\n",
    "                    must be obtained.\n",
    "                and returns:\n",
    "                - gradients: Batched gradients of the prediction for the target class \n",
    "                    (denoted by target_label_index) with respect to the inputs. \n",
    "                    The batches have the same shape as 'inputs'.\n",
    "        baseline: [optional] The baseline input used in the integrated\n",
    "            gradients computation. If None (default), the all zero tensor with\n",
    "            the same shape as the input (i.e., 0*input) is used as the baseline.\n",
    "            The provided baseline and input must have the same shape. \n",
    "        steps: [optional] Number of intepolation steps between the baseline\n",
    "            and the input used in the integrated gradients computation. These\n",
    "            steps along determine the integral approximation error. By default,\n",
    "            steps is set to 50.\n",
    "\n",
    "    Returns:\n",
    "        integrated_gradients: The integrated_gradients of the prediction for the\n",
    "        provided prediction label to the input. It has the same shape as that of\n",
    "        the input.\n",
    "    \"\"\"    \n",
    "    if baseline is None:\n",
    "        baseline = 0*inp\n",
    "    assert(baseline.shape == inp.shape)\n",
    "\n",
    "    # Scale input and compute gradients.\n",
    "    scaled_inputs = jnp.array([baseline + (float(i)/steps)*(inp-baseline) for i in range(0, steps+1)])\n",
    "    grads = batched_grad(params, scaled_inputs, target_label_index) # shapes: <steps+1>, <steps+1, inp.shape>\n",
    "    \n",
    "    # Use trapezoidal rule to approximate the integral.\n",
    "    # See Section 4 of the following paper for an accuracy comparison between\n",
    "    # left, right, and trapezoidal IG approximations:\n",
    "    # \"Computing Linear Restrictions of Neural Networks\", Matthew Sotoudeh, Aditya V. Thakur\n",
    "    # https://arxiv.org/abs/1908.06214\n",
    "    # Calculate the areas of the trapezoids\n",
    "    trap_areas = (grads[:-1] + grads[1:]) / 2.0\n",
    "    # Averaging the trapezoids provides the integral of the gradients\n",
    "    grads_integral = jnp.average(trap_areas, axis=0)\n",
    "    integrated_gradients = (inp-baseline) * grads_integral \n",
    "    return integrated_gradients\n",
    "    "
   ]
  },
  {
   "cell_type": "markdown",
   "metadata": {},
   "source": [
    "### Display predictions and saliency maps\n",
    "\n",
    "The integrated gradients function needs a batched gradient function to provide gradients for a batch of images. The batched_grad function is created using vmap, then passed through to integrated_gradients. The attributions are then obtained and prepared for displaying. "
   ]
  },
  {
   "cell_type": "code",
   "execution_count": 39,
   "metadata": {},
   "outputs": [],
   "source": [
    "def make_predictions(X, params):\n",
    "    logits = forward_fn.apply(params, X)\n",
    "    predictions = get_predictions(logits)\n",
    "    return predictions\n",
    "\n",
    "def prep_image(image):\n",
    "    # Normalize the gradient values to be between 0-1\n",
    "    max_val= np.max(image)\n",
    "    min_val = np.min(image)\n",
    "    image = (image - min_val) / (max_val - min_val)\n",
    "    # Convert the grads to uint8 for displaying\n",
    "    image = np.uint8(image * 255)\n",
    "    return image  \n",
    "\n",
    "def display_prediction(index, params):\n",
    "    current_image = X_val[None, index]\n",
    "    prediction = make_predictions(X_val[None, index], params)\n",
    "    label = Y_val[index]\n",
    "    print(\"Prediction: \", prediction)\n",
    "    print(\"Label: \", label)\n",
    "\n",
    "    display_image = current_image.reshape((28, 28)) * 255\n",
    "    plt.gray()\n",
    "    plt.imshow(display_image, interpolation='nearest')\n",
    "    plt.axis('off')\n",
    "    plt.title(\"Input Image\")\n",
    "    plt.show()\n",
    "\n",
    "    batched_grad = vmap(grad(loss_fn, argnums=1), in_axes=(None, 0, None))\n",
    "\n",
    "    attributions = integrated_gradients(\n",
    "        current_image[0],\n",
    "        label,\n",
    "        batched_grad,\n",
    "        steps=50)\n",
    "\n",
    "    attributions = attributions.reshape((28, 28))\n",
    "    attributions = prep_image(attributions)\n",
    "    plt.gray()\n",
    "    plt.imshow(attributions, interpolation='nearest')\n",
    "    plt.axis('off')\n",
    "    plt.title(\"Saliency Map\")\n",
    "    plt.show()"
   ]
  },
  {
   "cell_type": "code",
   "execution_count": 40,
   "metadata": {},
   "outputs": [
    {
     "name": "stdout",
     "output_type": "stream",
     "text": [
      "Prediction:  [1]\n",
      "Label:  1\n"
     ]
    },
    {
     "data": {
      "image/png": "[encoded data removed]",
      "text/plain": [
       "<Figure size 640x480 with 1 Axes>"
      ]
     },
     "metadata": {},
     "output_type": "display_data"
    },
    {
     "data": {
      "image/png": "[encoded data removed]",
      "text/plain": [
       "<Figure size 640x480 with 1 Axes>"
      ]
     },
     "metadata": {},
     "output_type": "display_data"
    },
    {
     "name": "stdout",
     "output_type": "stream",
     "text": [
      "Prediction:  [6]\n",
      "Label:  4\n"
     ]
    },
    {
     "data": {
      "image/png": "[encoded data removed]",
      "text/plain": [
       "<Figure size 640x480 with 1 Axes>"
      ]
     },
     "metadata": {},
     "output_type": "display_data"
    },
    {
     "data": {
      "image/png": "[encoded data removed]",
      "text/plain": [
       "<Figure size 640x480 with 1 Axes>"
      ]
     },
     "metadata": {},
     "output_type": "display_data"
    },
    {
     "name": "stdout",
     "output_type": "stream",
     "text": [
      "Prediction:  [3]\n",
      "Label:  0\n"
     ]
    },
    {
     "data": {
      "image/png": "[encoded data removed]",
      "text/plain": [
       "<Figure size 640x480 with 1 Axes>"
      ]
     },
     "metadata": {},
     "output_type": "display_data"
    },
    {
     "data": {
      "image/png": "[encoded data removed]",
      "text/plain": [
       "<Figure size 640x480 with 1 Axes>"
      ]
     },
     "metadata": {},
     "output_type": "display_data"
    },
    {
     "name": "stdout",
     "output_type": "stream",
     "text": [
      "Prediction:  [5]\n",
      "Label:  5\n"
     ]
    },
    {
     "data": {
      "image/png": "[encoded data removed]",
      "text/plain": [
       "<Figure size 640x480 with 1 Axes>"
      ]
     },
     "metadata": {},
     "output_type": "display_data"
    },
    {
     "data": {
      "image/png": "[encoded data removed]",
      "text/plain": [
       "<Figure size 640x480 with 1 Axes>"
      ]
     },
     "metadata": {},
     "output_type": "display_data"
    },
    {
     "name": "stdout",
     "output_type": "stream",
     "text": [
      "Prediction:  [8]\n",
      "Label:  8\n"
     ]
    },
    {
     "data": {
      "image/png": "[encoded data removed]",
      "text/plain": [
       "<Figure size 640x480 with 1 Axes>"
      ]
     },
     "metadata": {},
     "output_type": "display_data"
    },
    {
     "data": {
      "image/png": "[encoded data removed]",
      "text/plain": [
       "<Figure size 640x480 with 1 Axes>"
      ]
     },
     "metadata": {},
     "output_type": "display_data"
    },
    {
     "name": "stdout",
     "output_type": "stream",
     "text": [
      "Prediction:  [7]\n",
      "Label:  7\n"
     ]
    },
    {
     "data": {
      "image/png": "[encoded data removed]",
      "text/plain": [
       "<Figure size 640x480 with 1 Axes>"
      ]
     },
     "metadata": {},
     "output_type": "display_data"
    },
    {
     "data": {
      "image/png": "[encoded data removed]",
      "text/plain": [
       "<Figure size 640x480 with 1 Axes>"
      ]
     },
     "metadata": {},
     "output_type": "display_data"
    }
   ],
   "source": [
    "display_prediction(0, params)\n",
    "display_prediction(3, params)\n",
    "display_prediction(5, params)\n",
    "display_prediction(8, params)\n",
    "display_prediction(10, params)\n",
    "display_prediction(50, params)"
   ]
  }
 ],
 "metadata": {
  "kernelspec": {
   "display_name": "Python 3.9.13 ('flax')",
   "language": "python",
   "name": "python3"
  },
  "language_info": {
   "codemirror_mode": {
    "name": "ipython",
    "version": 3
   },
   "file_extension": ".py",
   "mimetype": "text/x-python",
   "name": "python",
   "nbconvert_exporter": "python",
   "pygments_lexer": "ipython3",
   "version": "3.9.13"
  },
  "orig_nbformat": 4,
  "vscode": {
   "interpreter": {
    "hash": "0a8d1f2580cdfde5c5829808ec6fccc81a351d243fb8b1925f7928e44ccf575b"
   }
  }
 },
 "nbformat": 4,
 "nbformat_minor": 2
}
