{
 "cells": [
  {
   "cell_type": "markdown",
   "metadata": {},
   "source": [
    "# Class Activation Mapping (CAM)\n",
    "\n",
    "The class activation mapping (CAM) method produces an attribution map from any convolutional layer of the image classification model. We use cam on the final convolutional layer as it provides the best results. Unlike the gradient methods, CAM places strict requirements on the models. CAM's requirements are listed below: \n",
    "- The classification model needs to have convolutional layers.\n",
    "- The model mustn't have fully connected layers (dense layers).\n",
    "- It requires a global average pooling (GAP) layer as the last layer before the softmax layer.\n",
    "\n",
    "Unfortunately replacing the fully connected layers with a GAP layer makes training very slow. I worked around this issue by using the fully connected layers during training. Then when extracting the attribution map I will access the intermediate convolutional layer using Flax's sow method. Then GAP is added to the convolutional layer. This ensures fast training time while satisfying all CAM's requirements.  \n",
    "\n",
    "For more technical information on the class activation mapping method see: [Learning Deep Features for Discriminative Localization](https://arxiv.org/abs/1512.04150)\n"
   ]
  },
  {
   "cell_type": "code",
   "execution_count": 1,
   "metadata": {},
   "outputs": [
    {
     "name": "stderr",
     "output_type": "stream",
     "text": [
      "2022-11-22 19:29:53.517816: E tensorflow/stream_executor/cuda/cuda_blas.cc:2981] Unable to register cuBLAS factory: Attempting to register factory for plugin cuBLAS when one has already been registered\n",
      "2022-11-22 19:29:54.873913: W tensorflow/stream_executor/platform/default/dso_loader.cc:64] Could not load dynamic library 'libnvinfer.so.7'; dlerror: libnvinfer.so.7: cannot open shared object file: No such file or directory; LD_LIBRARY_PATH: /usr/local/cuda-11.6/lib64:\n",
      "2022-11-22 19:29:54.874116: W tensorflow/stream_executor/platform/default/dso_loader.cc:64] Could not load dynamic library 'libnvinfer_plugin.so.7'; dlerror: libnvinfer_plugin.so.7: cannot open shared object file: No such file or directory; LD_LIBRARY_PATH: /usr/local/cuda-11.6/lib64:\n",
      "2022-11-22 19:29:54.874124: W tensorflow/compiler/tf2tensorrt/utils/py_utils.cc:38] TF-TRT Warning: Cannot dlopen some TensorRT libraries. If you would like to use Nvidia GPU with TensorRT, please make sure the missing libraries mentioned above are installed properly.\n"
     ]
    }
   ],
   "source": [
    "import os\n",
    "import numpy as np\n",
    "import pandas as pd\n",
    "import matplotlib.pyplot as plt\n",
    "import jax.numpy as jnp\n",
    "import flax.linen as nn\n",
    "import jax\n",
    "from jax import random\n",
    "from jax import grad\n",
    "from keras.utils import data_utils\n",
    "import optax"
   ]
  },
  {
   "cell_type": "markdown",
   "metadata": {},
   "source": [
    "### Load training data\n",
    "Check if the training data exists. If not, automatically download it."
   ]
  },
  {
   "cell_type": "code",
   "execution_count": 2,
   "metadata": {},
   "outputs": [],
   "source": [
    "data_dir = os.path.abspath(\"./digit-recognizer\")\n",
    "os.makedirs(data_dir, exist_ok=True)\n",
    "train_data_path = f\"{data_dir}/train.zip\"\n",
    "train_data_url = \"https://huggingface.co/datasets/ChristianOrr/mnist/resolve/main/train.zip\"\n",
    "\n",
    "if not os.path.exists(train_data_path):\n",
    "    print(\"Downloading training data...\")\n",
    "    data_utils.get_file(\n",
    "        train_data_path, \n",
    "        train_data_url, \n",
    "        extract=True, \n",
    "        cache_dir=data_dir\n",
    "        )\n",
    "\n",
    "data_df = pd.read_csv('./digit-recognizer/datasets/train.csv')"
   ]
  },
  {
   "cell_type": "code",
   "execution_count": 3,
   "metadata": {},
   "outputs": [],
   "source": [
    "val_size = 1000\n",
    "# Only shuffle training data\n",
    "np.random.shuffle(data_df[val_size:].values)\n",
    "m, n = data_df.shape\n",
    "Y = jnp.array(data_df[\"label\"])\n",
    "data_df = data_df.drop(\"label\", axis=1)\n",
    "X = jnp.array(data_df)\n",
    "\n",
    "\n",
    "X_train = X[val_size:]\n",
    "X_train = X_train / 255.\n",
    "Y_train = Y[val_size:]\n",
    "\n",
    "X_val = X[:val_size]\n",
    "X_val = X_val / 255.\n",
    "Y_val = Y[:val_size]"
   ]
  },
  {
   "cell_type": "markdown",
   "metadata": {},
   "source": [
    "### Define the classification model"
   ]
  },
  {
   "cell_type": "code",
   "execution_count": 4,
   "metadata": {},
   "outputs": [
    {
     "name": "stdout",
     "output_type": "stream",
     "text": [
      "\n",
      "\u001b[3m                              _forward_fn Summary                               \u001b[0m\n",
      "┏━━━━━━━━━━━━┳━━━━━━━━━━━━┳━━━━━━━━━━━━┳━━━━━━━━━━━━┳━━━━━━━━━━━━━┳━━━━━━━━━━━━┓\n",
      "┃\u001b[1m \u001b[0m\u001b[1mpath      \u001b[0m\u001b[1m \u001b[0m┃\u001b[1m \u001b[0m\u001b[1mmodule    \u001b[0m\u001b[1m \u001b[0m┃\u001b[1m \u001b[0m\u001b[1minputs    \u001b[0m\u001b[1m \u001b[0m┃\u001b[1m \u001b[0m\u001b[1moutputs   \u001b[0m\u001b[1m \u001b[0m┃\u001b[1m \u001b[0m\u001b[1mintermedia…\u001b[0m\u001b[1m \u001b[0m┃\u001b[1m \u001b[0m\u001b[1mparams    \u001b[0m\u001b[1m \u001b[0m┃\n",
      "┡━━━━━━━━━━━━╇━━━━━━━━━━━━╇━━━━━━━━━━━━╇━━━━━━━━━━━━╇━━━━━━━━━━━━━╇━━━━━━━━━━━━┩\n",
      "│            │ _forward_… │ \u001b[2mfloat32\u001b[0m[5… │ \u001b[2mfloat32\u001b[0m[5… │ final_conv… │            │\n",
      "│            │            │            │            │ -           │            │\n",
      "│            │            │            │            │ \u001b[2mfloat32\u001b[0m[5,… │            │\n",
      "│            │            │            │            │             │            │\n",
      "│            │            │            │            │ \u001b[1m92,160 \u001b[0m     │            │\n",
      "│            │            │            │            │ \u001b[1;2m(368.6 KB)\u001b[0m  │            │\n",
      "├────────────┼────────────┼────────────┼────────────┼─────────────┼────────────┤\n",
      "│ Sequentia… │ Sequential │ \u001b[2mfloat32\u001b[0m[5… │ \u001b[2mfloat32\u001b[0m[5… │             │            │\n",
      "├────────────┼────────────┼────────────┼────────────┼─────────────┼────────────┤\n",
      "│ Conv_0     │ Conv       │ \u001b[2mfloat32\u001b[0m[5… │ \u001b[2mfloat32\u001b[0m[5… │             │ kernel:    │\n",
      "│            │            │            │            │             │ \u001b[2mfloat32\u001b[0m[3… │\n",
      "│            │            │            │            │             │            │\n",
      "│            │            │            │            │             │ \u001b[1m144 \u001b[0m\u001b[1;2m(576 \u001b[0m  │\n",
      "│            │            │            │            │             │ \u001b[1;2mB)\u001b[0m         │\n",
      "├────────────┼────────────┼────────────┼────────────┼─────────────┼────────────┤\n",
      "│ Conv_1     │ Conv       │ \u001b[2mfloat32\u001b[0m[5… │ \u001b[2mfloat32\u001b[0m[5… │             │ kernel:    │\n",
      "│            │            │            │            │             │ \u001b[2mfloat32\u001b[0m[3… │\n",
      "│            │            │            │            │             │            │\n",
      "│            │            │            │            │             │ \u001b[1m4,608 \u001b[0m     │\n",
      "│            │            │            │            │             │ \u001b[1;2m(18.4 KB)\u001b[0m  │\n",
      "├────────────┼────────────┼────────────┼────────────┼─────────────┼────────────┤\n",
      "│ Dense_0    │ Dense      │ \u001b[2mfloat32\u001b[0m[5… │ \u001b[2mfloat32\u001b[0m[5… │             │ bias:      │\n",
      "│            │            │            │            │             │ \u001b[2mfloat32\u001b[0m[1… │\n",
      "│            │            │            │            │             │ kernel:    │\n",
      "│            │            │            │            │             │ \u001b[2mfloat32\u001b[0m[1… │\n",
      "│            │            │            │            │             │            │\n",
      "│            │            │            │            │             │ \u001b[1m184,330 \u001b[0m   │\n",
      "│            │            │            │            │             │ \u001b[1;2m(737.3 KB)\u001b[0m │\n",
      "├────────────┼────────────┼────────────┼────────────┼─────────────┼────────────┤\n",
      "│\u001b[1m \u001b[0m\u001b[1m          \u001b[0m\u001b[1m \u001b[0m│\u001b[1m \u001b[0m\u001b[1m          \u001b[0m\u001b[1m \u001b[0m│\u001b[1m \u001b[0m\u001b[1m          \u001b[0m\u001b[1m \u001b[0m│\u001b[1m \u001b[0m\u001b[1m     Total\u001b[0m\u001b[1m \u001b[0m│\u001b[1m \u001b[0m\u001b[1m92,160     \u001b[0m\u001b[1m \u001b[0m│\u001b[1m \u001b[0m\u001b[1m189,082   \u001b[0m\u001b[1m \u001b[0m│\n",
      "│\u001b[1m            \u001b[0m│\u001b[1m            \u001b[0m│\u001b[1m            \u001b[0m│\u001b[1m            \u001b[0m│\u001b[1m \u001b[0m\u001b[1;2m(368.6 KB)\u001b[0m\u001b[1m \u001b[0m\u001b[1m \u001b[0m│\u001b[1m \u001b[0m\u001b[1;2m(756.3 KB)\u001b[0m\u001b[1m \u001b[0m│\n",
      "└────────────┴────────────┴────────────┴────────────┴─────────────┴────────────┘\n",
      "\u001b[1m                                                                                \u001b[0m\n",
      "\u001b[1m                       Total Parameters: 281,242 \u001b[0m\u001b[1;2m(1.1 MB)\u001b[0m\u001b[1m                       \u001b[0m\n",
      "\n",
      "\n"
     ]
    }
   ],
   "source": [
    "class _forward_fn(nn.Module):\n",
    "\n",
    "    @nn.compact\n",
    "    def __call__(self, x):\n",
    "        batch_size = x.shape[0]\n",
    "        # Unflatten for the convolution layers\n",
    "        x = x.reshape(batch_size, 28, 28, 1)\n",
    "        conv_layers = nn.Sequential([\n",
    "            nn.Conv(features=16, kernel_size=(3, 3), padding=\"VALID\", use_bias=False), jax.nn.relu,\n",
    "            nn.Conv(features=32, kernel_size=(3, 3), padding=\"VALID\", use_bias=False), jax.nn.relu,  \n",
    "        ])\n",
    "        x = conv_layers(x)\n",
    "        # Save the final convolution layer as an intermediate so \n",
    "        # it can be accessed for the cam algorithm\n",
    "        self.sow(\"intermediates\", \"final_conv_layer\", x)\n",
    "\n",
    "        x = x.reshape((batch_size, -1))\n",
    "        x = nn.Dense(10)(x)\n",
    "        return jax.nn.softmax(x)\n",
    "\n",
    "# Create the model object\n",
    "forward_fn = _forward_fn()\n",
    "# Display the model details\n",
    "dummy_x = X_train[:5]\n",
    "rng_key = random.PRNGKey(64)\n",
    "initial_params = forward_fn.init(rng_key, dummy_x)\n",
    "print(forward_fn.tabulate(rng_key, dummy_x))"
   ]
  },
  {
   "cell_type": "markdown",
   "metadata": {},
   "source": [
    "### Define the loss function and update method"
   ]
  },
  {
   "cell_type": "code",
   "execution_count": 5,
   "metadata": {},
   "outputs": [],
   "source": [
    "def loss_fn(params, X, Y):\n",
    "    logits = forward_fn.apply(params, X)\n",
    "    loss = optax.softmax_cross_entropy_with_integer_labels(logits, Y)\n",
    "    loss = loss.mean()\n",
    "    return loss\n",
    "\n",
    "def update_params(params, opt_state, X, Y, optimizer):\n",
    "    grads = grad(loss_fn, argnums=0)(params, X, Y)\n",
    "    updates, opt_state = optimizer.update(grads, opt_state, params)\n",
    "    params = optax.apply_updates(params, updates)\n",
    "    return params, opt_state"
   ]
  },
  {
   "cell_type": "markdown",
   "metadata": {},
   "source": [
    "### Train the model"
   ]
  },
  {
   "cell_type": "code",
   "execution_count": 6,
   "metadata": {},
   "outputs": [],
   "source": [
    "def get_predictions(logits):\n",
    "    return jnp.argmax(logits, axis=1)\n",
    "\n",
    "def get_accuracy(predictions, Y):\n",
    "    return jnp.mean(predictions == Y)\n",
    "\n",
    "def gradient_descent(X, Y, batch_size, optimizer, epochs):\n",
    "    dataset_size = len(X)\n",
    "    steps_per_epoch = dataset_size // batch_size\n",
    "\n",
    "    rng = jax.random.PRNGKey(42)\n",
    "    params = forward_fn.init(rng, X[0: batch_size, :])\n",
    "    opt_state = optimizer.init(params)\n",
    "    for epoch in range(epochs):\n",
    "        dataset_step = epoch % steps_per_epoch\n",
    "        dataset_index = dataset_step * batch_size\n",
    "        input = X[dataset_index: dataset_index + batch_size, :]\n",
    "        label = Y[dataset_index: dataset_index + batch_size, ...]\n",
    "\n",
    "        params, opt_state = update_params(params, opt_state, input, label, optimizer)\n",
    "        if epoch % 10 == 0:\n",
    "            print(\"Epochs: \", epoch)\n",
    "            logits = forward_fn.apply(params, input)\n",
    "            predictions = get_predictions(logits)\n",
    "            print(get_accuracy(predictions, label))\n",
    "    return params"
   ]
  },
  {
   "cell_type": "code",
   "execution_count": 7,
   "metadata": {},
   "outputs": [
    {
     "name": "stdout",
     "output_type": "stream",
     "text": [
      "Epochs:  0\n",
      "0.49\n",
      "Epochs:  10\n",
      "0.859\n",
      "Epochs:  20\n",
      "0.901\n",
      "Epochs:  30\n",
      "0.90000004\n",
      "Epochs:  40\n",
      "0.92300004\n",
      "Epochs:  50\n",
      "0.93900007\n",
      "Epochs:  60\n",
      "0.93700004\n",
      "Epochs:  70\n",
      "0.93700004\n",
      "Epochs:  80\n",
      "0.9620001\n",
      "Epochs:  90\n",
      "0.94200003\n",
      "Epochs:  100\n",
      "0.96000004\n",
      "Epochs:  110\n",
      "0.961\n",
      "Epochs:  120\n",
      "0.95800006\n",
      "Epochs:  130\n",
      "0.97200006\n",
      "Epochs:  140\n",
      "0.97\n",
      "Epochs:  150\n",
      "0.9710001\n",
      "Epochs:  160\n",
      "0.975\n",
      "Epochs:  170\n",
      "0.97900003\n",
      "Epochs:  180\n",
      "0.966\n",
      "Epochs:  190\n",
      "0.96900004\n"
     ]
    }
   ],
   "source": [
    "optimizer = optax.adam(learning_rate=0.001)\n",
    "\n",
    "params = gradient_descent(X_train, Y_train, 1000, optimizer, 200)"
   ]
  },
  {
   "cell_type": "markdown",
   "metadata": {},
   "source": [
    "### Display predictions and attribution maps\n",
    "\n",
    "CAM can be performed on any of the convolutional layers. For this demonstration we use the final convolutional layer. To access the convolutional layer it needs to be stored as an intermediate variable in the model definition, then the \"mutable='intermediates'\" argument is supplied to the model when performing the forward pass. Global average pooling is then applied to the convolutional layer. This is performed by taking the mean of each filter/feature map, this results in a vector of floats with the size of the number of feature maps. The vector is then used as weights for the feature maps. The dot product is taken between the weights and feature maps to provide us with the class activation mapping. "
   ]
  },
  {
   "cell_type": "code",
   "execution_count": 8,
   "metadata": {},
   "outputs": [],
   "source": [
    "def make_predictions(X, params):\n",
    "    logits, state = forward_fn.apply(params, X, mutable='intermediates')\n",
    "    predictions = get_predictions(logits)\n",
    "    return predictions, state\n",
    "\n",
    "def prep_image(image):\n",
    "    # Normalize the gradient values to be between 0-1\n",
    "    max_val= np.max(image)\n",
    "    min_val = np.min(image)\n",
    "    image = (image - min_val) / (max_val - min_val)\n",
    "    # Convert the grads to uint8 for displaying\n",
    "    image = np.uint8(image * 255)\n",
    "    return image   \n",
    "\n",
    "def display_prediction(index, params):\n",
    "    current_image = X_val[None, index]\n",
    "    prediction, state = make_predictions(X_val[None, index], params)\n",
    "\n",
    "    label = Y_val[index]\n",
    "    print(\"Prediction: \", prediction)\n",
    "    print(\"Label: \", label)\n",
    "\n",
    "    display_image = current_image.reshape((28, 28)) * 255\n",
    "    plt.gray()\n",
    "    plt.imshow(display_image, interpolation='nearest')\n",
    "    plt.axis('off')\n",
    "    plt.title(\"Input Image\")\n",
    "    plt.show()\n",
    "\n",
    "    \n",
    "    final_conv_layer = state[\"intermediates\"][\"final_conv_layer\"][0][0]\n",
    "    # Get weights using global average pooling\n",
    "    weights = jnp.mean(final_conv_layer, axis=(0, 1))\n",
    "    # Get the weighted sum of all the filters\n",
    "    cam = jnp.dot(final_conv_layer, weights)\n",
    "    cam = prep_image(cam)\n",
    "\n",
    "    plt.gray()\n",
    "    plt.imshow(cam, interpolation='nearest')\n",
    "    plt.axis('off')\n",
    "    plt.title(\"Attribution Map\")\n",
    "    plt.show()"
   ]
  },
  {
   "cell_type": "code",
   "execution_count": 9,
   "metadata": {},
   "outputs": [
    {
     "name": "stdout",
     "output_type": "stream",
     "text": [
      "Prediction:  [1]\n",
      "Label:  1\n"
     ]
    },
    {
     "data": {
      "image/png": "[encoded data removed]",
      "text/plain": [
       "<Figure size 640x480 with 1 Axes>"
      ]
     },
     "metadata": {},
     "output_type": "display_data"
    },
    {
     "data": {
      "image/png": "[encoded data removed]",
      "text/plain": [
       "<Figure size 640x480 with 1 Axes>"
      ]
     },
     "metadata": {},
     "output_type": "display_data"
    },
    {
     "name": "stdout",
     "output_type": "stream",
     "text": [
      "Prediction:  [4]\n",
      "Label:  4\n"
     ]
    },
    {
     "data": {
      "image/png": "[encoded data removed]",
      "text/plain": [
       "<Figure size 640x480 with 1 Axes>"
      ]
     },
     "metadata": {},
     "output_type": "display_data"
    },
    {
     "data": {
      "image/png": "[encoded data removed]",
      "text/plain": [
       "<Figure size 640x480 with 1 Axes>"
      ]
     },
     "metadata": {},
     "output_type": "display_data"
    },
    {
     "name": "stdout",
     "output_type": "stream",
     "text": [
      "Prediction:  [0]\n",
      "Label:  0\n"
     ]
    },
    {
     "data": {
      "image/png": "[encoded data removed]",
      "text/plain": [
       "<Figure size 640x480 with 1 Axes>"
      ]
     },
     "metadata": {},
     "output_type": "display_data"
    },
    {
     "data": {
      "image/png": "[encoded data removed]",
      "text/plain": [
       "<Figure size 640x480 with 1 Axes>"
      ]
     },
     "metadata": {},
     "output_type": "display_data"
    },
    {
     "name": "stdout",
     "output_type": "stream",
     "text": [
      "Prediction:  [5]\n",
      "Label:  5\n"
     ]
    },
    {
     "data": {
      "image/png": "[encoded data removed]",
      "text/plain": [
       "<Figure size 640x480 with 1 Axes>"
      ]
     },
     "metadata": {},
     "output_type": "display_data"
    },
    {
     "data": {
      "image/png": "[encoded data removed]",
      "text/plain": [
       "<Figure size 640x480 with 1 Axes>"
      ]
     },
     "metadata": {},
     "output_type": "display_data"
    },
    {
     "name": "stdout",
     "output_type": "stream",
     "text": [
      "Prediction:  [8]\n",
      "Label:  8\n"
     ]
    },
    {
     "data": {
      "image/png": "[encoded data removed]",
      "text/plain": [
       "<Figure size 640x480 with 1 Axes>"
      ]
     },
     "metadata": {},
     "output_type": "display_data"
    },
    {
     "data": {
      "image/png": "[encoded data removed]",
      "text/plain": [
       "<Figure size 640x480 with 1 Axes>"
      ]
     },
     "metadata": {},
     "output_type": "display_data"
    },
    {
     "name": "stdout",
     "output_type": "stream",
     "text": [
      "Prediction:  [7]\n",
      "Label:  7\n"
     ]
    },
    {
     "data": {
      "image/png": "[encoded data removed]",
      "text/plain": [
       "<Figure size 640x480 with 1 Axes>"
      ]
     },
     "metadata": {},
     "output_type": "display_data"
    },
    {
     "data": {
      "image/png": "[encoded data removed]",
      "text/plain": [
       "<Figure size 640x480 with 1 Axes>"
      ]
     },
     "metadata": {},
     "output_type": "display_data"
    }
   ],
   "source": [
    "display_prediction(0, params)\n",
    "display_prediction(3, params)\n",
    "display_prediction(5, params)\n",
    "display_prediction(8, params)\n",
    "display_prediction(10, params)\n",
    "display_prediction(50, params)"
   ]
  }
 ],
 "metadata": {
  "kernelspec": {
   "display_name": "Python 3.9.13 ('flax')",
   "language": "python",
   "name": "python3"
  },
  "language_info": {
   "codemirror_mode": {
    "name": "ipython",
    "version": 3
   },
   "file_extension": ".py",
   "mimetype": "text/x-python",
   "name": "python",
   "nbconvert_exporter": "python",
   "pygments_lexer": "ipython3",
   "version": "3.9.13"
  },
  "orig_nbformat": 4,
  "vscode": {
   "interpreter": {
    "hash": "0a8d1f2580cdfde5c5829808ec6fccc81a351d243fb8b1925f7928e44ccf575b"
   }
  }
 },
 "nbformat": 4,
 "nbformat_minor": 2
}
