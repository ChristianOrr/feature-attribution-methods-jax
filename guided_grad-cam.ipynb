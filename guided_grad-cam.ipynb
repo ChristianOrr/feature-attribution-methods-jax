{
 "cells": [
  {
   "cell_type": "markdown",
   "metadata": {},
   "source": [
    "# Guided Grad-CAM\n",
    "\n",
    "Guided Grad-CAM is an attribution method which combines both guided backprop and Grad-CAM. Guided Grad-CAM improves on both methods by using the best features of both methods. The high resolution of guided backprop is combined with the class localization abilitly of Grad-CAM to produce an algorithm superior to both. The gradients required for both methods can be calculated in a single backwards pass, which helps keep the algorithm fast. Unfortunately the algorithm required far more code since the code for both Grad-CAM and guided backprop are needed. Repeated descriptions from both algorithms have been kept to a minimum to save space, so its recommended to read both the \"grad-cam\" and \"guided_packprop\" notebooks before continuing.  \n",
    "\n",
    "\n",
    "For more technical information on the Guided Grad-CAM method see: [Grad-CAM: Visual Explanations from Deep Networks via Gradient-based Localization](https://arxiv.org/abs/1610.02391)\n"
   ]
  },
  {
   "cell_type": "code",
   "execution_count": 1,
   "metadata": {},
   "outputs": [],
   "source": [
    "import os\n",
    "import numpy as np\n",
    "import pandas as pd\n",
    "import matplotlib.pyplot as plt\n",
    "import jax.numpy as jnp\n",
    "from jax import custom_vjp\n",
    "import flax.linen as nn\n",
    "from flax.core.frozen_dict import freeze\n",
    "import jax\n",
    "from jax import random\n",
    "from jax import grad\n",
    "import optax\n",
    "import urllib.request\n",
    "import zipfile"
   ]
  },
  {
   "cell_type": "markdown",
   "metadata": {},
   "source": [
    "### Load training data\n",
    "Check if the training data exists. If not, automatically download it."
   ]
  },
  {
   "cell_type": "code",
   "execution_count": 2,
   "metadata": {},
   "outputs": [],
   "source": [
    "data_dir = os.path.abspath(\"./digit-recognizer\")\n",
    "os.makedirs(data_dir, exist_ok=True)\n",
    "train_data_path = f\"{data_dir}/train.zip\"\n",
    "train_data_url = \"https://huggingface.co/datasets/ChristianOrr/mnist/resolve/main/train.zip\"\n",
    "\n",
    "if not os.path.exists(train_data_path):\n",
    "    print(\"Downloading training data...\")\n",
    "    urllib.request.urlretrieve(train_data_url, train_data_path)\n",
    "    with zipfile.ZipFile(train_data_path) as zip_file:\n",
    "        zip_file.extractall(data_dir)\n",
    "\n",
    "data_df = pd.read_csv('./digit-recognizer/train.csv')"
   ]
  },
  {
   "cell_type": "code",
   "execution_count": 3,
   "metadata": {},
   "outputs": [],
   "source": [
    "val_size = 1000\n",
    "m, n = data_df.shape\n",
    "Y = jnp.array(data_df[\"label\"])\n",
    "data_df = data_df.drop(\"label\", axis=1)\n",
    "X = jnp.array(data_df)\n",
    "\n",
    "\n",
    "X_train = X[val_size:]\n",
    "X_train = X_train / 255.\n",
    "Y_train = Y[val_size:]\n",
    "\n",
    "X_val = X[:val_size]\n",
    "X_val = X_val / 255.\n",
    "Y_val = Y[:val_size]"
   ]
  },
  {
   "cell_type": "markdown",
   "metadata": {},
   "source": [
    "### Define the classification model"
   ]
  },
  {
   "cell_type": "code",
   "execution_count": 4,
   "metadata": {},
   "outputs": [
    {
     "name": "stdout",
     "output_type": "stream",
     "text": [
      "\n",
      "\u001b[3m                              _forward_fn Summary                               \u001b[0m\n",
      "┏━━━━━━━━━━━━┳━━━━━━━━━━━━┳━━━━━━━━━━━━┳━━━━━━━━━━━━┳━━━━━━━━━━━━━┳━━━━━━━━━━━━┓\n",
      "┃\u001b[1m \u001b[0m\u001b[1mpath      \u001b[0m\u001b[1m \u001b[0m┃\u001b[1m \u001b[0m\u001b[1mmodule    \u001b[0m\u001b[1m \u001b[0m┃\u001b[1m \u001b[0m\u001b[1minputs    \u001b[0m\u001b[1m \u001b[0m┃\u001b[1m \u001b[0m\u001b[1moutputs   \u001b[0m\u001b[1m \u001b[0m┃\u001b[1m \u001b[0m\u001b[1mperturbati…\u001b[0m\u001b[1m \u001b[0m┃\u001b[1m \u001b[0m\u001b[1mparams    \u001b[0m\u001b[1m \u001b[0m┃\n",
      "┡━━━━━━━━━━━━╇━━━━━━━━━━━━╇━━━━━━━━━━━━╇━━━━━━━━━━━━╇━━━━━━━━━━━━━╇━━━━━━━━━━━━┩\n",
      "│            │ _forward_… │ \u001b[2mfloat32\u001b[0m[5… │ \u001b[2mfloat32\u001b[0m[5… │ conv_1:     │            │\n",
      "│            │            │            │            │ \u001b[2mfloat32\u001b[0m[5,… │            │\n",
      "│            │            │            │            │             │            │\n",
      "│            │            │            │            │ \u001b[1m92,160 \u001b[0m     │            │\n",
      "│            │            │            │            │ \u001b[1;2m(368.6 KB)\u001b[0m  │            │\n",
      "├────────────┼────────────┼────────────┼────────────┼─────────────┼────────────┤\n",
      "│ Sequentia… │ Sequential │ \u001b[2mfloat32\u001b[0m[5… │ \u001b[2mfloat32\u001b[0m[5… │             │            │\n",
      "├────────────┼────────────┼────────────┼────────────┼─────────────┼────────────┤\n",
      "│ Conv_0     │ Conv       │ \u001b[2mfloat32\u001b[0m[5… │ \u001b[2mfloat32\u001b[0m[5… │             │ kernel:    │\n",
      "│            │            │            │            │             │ \u001b[2mfloat32\u001b[0m[3… │\n",
      "│            │            │            │            │             │            │\n",
      "│            │            │            │            │             │ \u001b[1m144 \u001b[0m\u001b[1;2m(576 \u001b[0m  │\n",
      "│            │            │            │            │             │ \u001b[1;2mB)\u001b[0m         │\n",
      "├────────────┼────────────┼────────────┼────────────┼─────────────┼────────────┤\n",
      "│ Conv_1     │ Conv       │ \u001b[2mfloat32\u001b[0m[5… │ \u001b[2mfloat32\u001b[0m[5… │             │ kernel:    │\n",
      "│            │            │            │            │             │ \u001b[2mfloat32\u001b[0m[3… │\n",
      "│            │            │            │            │             │            │\n",
      "│            │            │            │            │             │ \u001b[1m4,608 \u001b[0m     │\n",
      "│            │            │            │            │             │ \u001b[1;2m(18.4 KB)\u001b[0m  │\n",
      "├────────────┼────────────┼────────────┼────────────┼─────────────┼────────────┤\n",
      "│ Dense_0    │ Dense      │ \u001b[2mfloat32\u001b[0m[5… │ \u001b[2mfloat32\u001b[0m[5… │             │ bias:      │\n",
      "│            │            │            │            │             │ \u001b[2mfloat32\u001b[0m[1… │\n",
      "│            │            │            │            │             │ kernel:    │\n",
      "│            │            │            │            │             │ \u001b[2mfloat32\u001b[0m[1… │\n",
      "│            │            │            │            │             │            │\n",
      "│            │            │            │            │             │ \u001b[1m184,330 \u001b[0m   │\n",
      "│            │            │            │            │             │ \u001b[1;2m(737.3 KB)\u001b[0m │\n",
      "├────────────┼────────────┼────────────┼────────────┼─────────────┼────────────┤\n",
      "│\u001b[1m \u001b[0m\u001b[1m          \u001b[0m\u001b[1m \u001b[0m│\u001b[1m \u001b[0m\u001b[1m          \u001b[0m\u001b[1m \u001b[0m│\u001b[1m \u001b[0m\u001b[1m          \u001b[0m\u001b[1m \u001b[0m│\u001b[1m \u001b[0m\u001b[1m     Total\u001b[0m\u001b[1m \u001b[0m│\u001b[1m \u001b[0m\u001b[1m92,160     \u001b[0m\u001b[1m \u001b[0m│\u001b[1m \u001b[0m\u001b[1m189,082   \u001b[0m\u001b[1m \u001b[0m│\n",
      "│\u001b[1m            \u001b[0m│\u001b[1m            \u001b[0m│\u001b[1m            \u001b[0m│\u001b[1m            \u001b[0m│\u001b[1m \u001b[0m\u001b[1;2m(368.6 KB)\u001b[0m\u001b[1m \u001b[0m\u001b[1m \u001b[0m│\u001b[1m \u001b[0m\u001b[1;2m(756.3 KB)\u001b[0m\u001b[1m \u001b[0m│\n",
      "└────────────┴────────────┴────────────┴────────────┴─────────────┴────────────┘\n",
      "\u001b[1m                                                                                \u001b[0m\n",
      "\u001b[1m                       Total Parameters: 281,242 \u001b[0m\u001b[1;2m(1.1 MB)\u001b[0m\u001b[1m                       \u001b[0m\n",
      "\n",
      "\n"
     ]
    }
   ],
   "source": [
    "class _forward_fn(nn.Module):\n",
    "\n",
    "    @nn.compact\n",
    "    def __call__(self, x):\n",
    "        batch_size = x.shape[0]\n",
    "        # Unflatten for the convolution layers\n",
    "        x = x.reshape(batch_size, 28, 28, 1)\n",
    "        conv_layers = nn.Sequential([\n",
    "            nn.Conv(features=16, kernel_size=(3, 3), padding=\"VALID\", use_bias=False), jax.nn.relu,\n",
    "            nn.Conv(features=32, kernel_size=(3, 3), padding=\"VALID\", use_bias=False), jax.nn.relu,  \n",
    "        ])\n",
    "        x = conv_layers(x)\n",
    "        # Use perturb to extract the gradients for the final conv layer\n",
    "        x = self.perturb(\"conv_1\", x)\n",
    "        # Save the final convolution layer as an intermediate so \n",
    "        # it can be accessed for the cam algorithm\n",
    "        self.sow(\"intermediates\", \"final_conv_layer\", x)\n",
    "        # Flatten\n",
    "        x = x.reshape((batch_size, -1))\n",
    "        x = nn.Dense(10)(x)\n",
    "        return jax.nn.softmax(x)\n",
    "\n",
    "# Create the model object\n",
    "forward_fn = _forward_fn()\n",
    "# Display the model details\n",
    "dummy_x = X_train[:5]\n",
    "rng_key = random.PRNGKey(64)\n",
    "print(forward_fn.tabulate(rng_key, dummy_x))"
   ]
  },
  {
   "cell_type": "markdown",
   "metadata": {},
   "source": [
    "### Define the loss function and update method"
   ]
  },
  {
   "cell_type": "code",
   "execution_count": 5,
   "metadata": {},
   "outputs": [],
   "source": [
    "def loss_fn(params, perturbations, X, Y):\n",
    "    variables = {\n",
    "        'params': params,\n",
    "        'perturbations': perturbations\n",
    "    }\n",
    "    logits = forward_fn.apply(variables, X)\n",
    "    loss = optax.softmax_cross_entropy_with_integer_labels(logits, Y)\n",
    "    loss = loss.mean()\n",
    "    return loss\n",
    "\n",
    "def update_params(params, perturbations, opt_state, X, Y, optimizer):\n",
    "    grads = grad(loss_fn, argnums=0)(params, perturbations, X, Y)\n",
    "    updates, opt_state = optimizer.update(grads, opt_state, params)\n",
    "    params = optax.apply_updates(params, updates)\n",
    "    return params, opt_state\n"
   ]
  },
  {
   "cell_type": "markdown",
   "metadata": {},
   "source": [
    "### Train the model"
   ]
  },
  {
   "cell_type": "code",
   "execution_count": 6,
   "metadata": {},
   "outputs": [],
   "source": [
    "def get_predictions(logits):\n",
    "    return jnp.argmax(logits, axis=1)\n",
    "\n",
    "def get_accuracy(predictions, Y):\n",
    "    return jnp.mean(predictions == Y)\n",
    "\n",
    "def gradient_descent(X, Y, batch_size, optimizer, epochs):\n",
    "    dataset_size = len(X)\n",
    "    steps_per_epoch = dataset_size // batch_size\n",
    "\n",
    "    rng = jax.random.PRNGKey(42)\n",
    "    variables = forward_fn.init(rng, X[0: batch_size, :])\n",
    "    params, perturbations = variables[\"params\"], variables[\"perturbations\"]\n",
    "    opt_state = optimizer.init(params)\n",
    "    \n",
    "    for epoch in range(epochs):\n",
    "        dataset_step = epoch % steps_per_epoch\n",
    "        dataset_index = dataset_step * batch_size\n",
    "        input = X[dataset_index: dataset_index + batch_size, :]\n",
    "        label = Y[dataset_index: dataset_index + batch_size, ...]\n",
    "\n",
    "        params, opt_state = update_params(params, perturbations, opt_state, input, label, optimizer)\n",
    "        if epoch % 10 == 0:\n",
    "            print(\"Iteration: \", epoch)\n",
    "            logits = forward_fn.apply({'params': params, 'perturbations': perturbations}, input)\n",
    "            predictions = get_predictions(logits)\n",
    "            print(get_accuracy(predictions, label))\n",
    "    return params"
   ]
  },
  {
   "cell_type": "code",
   "execution_count": 7,
   "metadata": {},
   "outputs": [
    {
     "name": "stdout",
     "output_type": "stream",
     "text": [
      "Iteration:  0\n",
      "0.48200002\n",
      "Iteration:  10\n",
      "0.85700005\n",
      "Iteration:  20\n",
      "0.883\n",
      "Iteration:  30\n",
      "0.92800003\n",
      "Iteration:  40\n",
      "0.91800004\n",
      "Iteration:  50\n",
      "0.9250001\n",
      "Iteration:  60\n",
      "0.93900007\n",
      "Iteration:  70\n",
      "0.93500006\n",
      "Iteration:  80\n",
      "0.9480001\n",
      "Iteration:  90\n",
      "0.952\n",
      "Iteration:  100\n",
      "0.96800005\n",
      "Iteration:  110\n",
      "0.96000004\n",
      "Iteration:  120\n",
      "0.96800005\n",
      "Iteration:  130\n",
      "0.97300005\n",
      "Iteration:  140\n",
      "0.96800005\n",
      "Iteration:  150\n",
      "0.96800005\n",
      "Iteration:  160\n",
      "0.97200006\n",
      "Iteration:  170\n",
      "0.96700007\n",
      "Iteration:  180\n",
      "0.98300004\n",
      "Iteration:  190\n",
      "0.96900004\n"
     ]
    }
   ],
   "source": [
    "optimizer = optax.adam(learning_rate=0.001)\n",
    "\n",
    "params = gradient_descent(X_train, Y_train, 1000, optimizer, 200)"
   ]
  },
  {
   "cell_type": "markdown",
   "metadata": {},
   "source": [
    "### Create Guided Relu\n",
    "\n",
    "For a detailed description of the guided relu layer see the guided backprop notebook."
   ]
  },
  {
   "cell_type": "code",
   "execution_count": 8,
   "metadata": {},
   "outputs": [],
   "source": [
    "@custom_vjp\n",
    "def guided_relu(x):\n",
    "    return jax.nn.relu(x)\n",
    "\n",
    "def guided_relu_fwd(x):\n",
    "    residual = x\n",
    "    primal = guided_relu(x)\n",
    "\n",
    "    return primal, residual\n",
    "\n",
    "def guided_relu_bwd(residual, grad):\n",
    "    # Derivative of relu is 1 for values > 0 and 0 otherwise\n",
    "    # Using relu devivative for both residuals and grads\n",
    "    grad_gate = jnp.float32(grad > 0)\n",
    "    residual_gate = jnp.float32(residual > 0)\n",
    "    output = residual_gate * grad_gate * grad\n",
    "    return (output, ) \n",
    "\n",
    "guided_relu.defvjp(guided_relu_fwd, guided_relu_bwd)"
   ]
  },
  {
   "cell_type": "markdown",
   "metadata": {},
   "source": [
    "### Create the guided model\n",
    "\n",
    "Now that we have the guided relu layers we can swap them with the relu layers in the classification model. The model architecture is identical to the one trained previously so we can use its trained parameters."
   ]
  },
  {
   "cell_type": "code",
   "execution_count": 9,
   "metadata": {},
   "outputs": [
    {
     "name": "stdout",
     "output_type": "stream",
     "text": [
      "\n",
      "\u001b[3m                           _guided_forward_fn Summary                           \u001b[0m\n",
      "┏━━━━━━━━━━━━┳━━━━━━━━━━━━┳━━━━━━━━━━━━┳━━━━━━━━━━━━┳━━━━━━━━━━━━┳━━━━━━━━━━━━━┓\n",
      "┃\u001b[1m \u001b[0m\u001b[1mpath      \u001b[0m\u001b[1m \u001b[0m┃\u001b[1m \u001b[0m\u001b[1mmodule    \u001b[0m\u001b[1m \u001b[0m┃\u001b[1m \u001b[0m\u001b[1minputs    \u001b[0m\u001b[1m \u001b[0m┃\u001b[1m \u001b[0m\u001b[1moutputs   \u001b[0m\u001b[1m \u001b[0m┃\u001b[1m \u001b[0m\u001b[1mperturbat…\u001b[0m\u001b[1m \u001b[0m┃\u001b[1m \u001b[0m\u001b[1mparams     \u001b[0m\u001b[1m \u001b[0m┃\n",
      "┡━━━━━━━━━━━━╇━━━━━━━━━━━━╇━━━━━━━━━━━━╇━━━━━━━━━━━━╇━━━━━━━━━━━━╇━━━━━━━━━━━━━┩\n",
      "│            │ _guided_f… │ \u001b[2mfloat32\u001b[0m[5… │ \u001b[2mfloat32\u001b[0m[5… │ conv_1:    │             │\n",
      "│            │            │            │            │ \u001b[2mfloat32\u001b[0m[5… │             │\n",
      "│            │            │            │            │            │             │\n",
      "│            │            │            │            │ \u001b[1m92,160 \u001b[0m    │             │\n",
      "│            │            │            │            │ \u001b[1;2m(368.6 KB)\u001b[0m │             │\n",
      "├────────────┼────────────┼────────────┼────────────┼────────────┼─────────────┤\n",
      "│ Sequentia… │ Sequential │ \u001b[2mfloat32\u001b[0m[5… │ \u001b[2mfloat32\u001b[0m[5… │            │             │\n",
      "├────────────┼────────────┼────────────┼────────────┼────────────┼─────────────┤\n",
      "│ Conv_0     │ Conv       │ \u001b[2mfloat32\u001b[0m[5… │ \u001b[2mfloat32\u001b[0m[5… │            │ kernel:     │\n",
      "│            │            │            │            │            │ \u001b[2mfloat32\u001b[0m[3,… │\n",
      "│            │            │            │            │            │             │\n",
      "│            │            │            │            │            │ \u001b[1m144 \u001b[0m\u001b[1;2m(576 B)\u001b[0m │\n",
      "├────────────┼────────────┼────────────┼────────────┼────────────┼─────────────┤\n",
      "│ Conv_1     │ Conv       │ \u001b[2mfloat32\u001b[0m[5… │ \u001b[2mfloat32\u001b[0m[5… │            │ kernel:     │\n",
      "│            │            │            │            │            │ \u001b[2mfloat32\u001b[0m[3,… │\n",
      "│            │            │            │            │            │             │\n",
      "│            │            │            │            │            │ \u001b[1m4,608 \u001b[0m\u001b[1;2m(18.4\u001b[0m │\n",
      "│            │            │            │            │            │ \u001b[1;2mKB)\u001b[0m         │\n",
      "├────────────┼────────────┼────────────┼────────────┼────────────┼─────────────┤\n",
      "│ Dense_0    │ Dense      │ \u001b[2mfloat32\u001b[0m[5… │ \u001b[2mfloat32\u001b[0m[5… │            │ bias:       │\n",
      "│            │            │            │            │            │ \u001b[2mfloat32\u001b[0m[10] │\n",
      "│            │            │            │            │            │ kernel:     │\n",
      "│            │            │            │            │            │ \u001b[2mfloat32\u001b[0m[18… │\n",
      "│            │            │            │            │            │             │\n",
      "│            │            │            │            │            │ \u001b[1m184,330 \u001b[0m    │\n",
      "│            │            │            │            │            │ \u001b[1;2m(737.3 KB)\u001b[0m  │\n",
      "├────────────┼────────────┼────────────┼────────────┼────────────┼─────────────┤\n",
      "│\u001b[1m \u001b[0m\u001b[1m          \u001b[0m\u001b[1m \u001b[0m│\u001b[1m \u001b[0m\u001b[1m          \u001b[0m\u001b[1m \u001b[0m│\u001b[1m \u001b[0m\u001b[1m          \u001b[0m\u001b[1m \u001b[0m│\u001b[1m \u001b[0m\u001b[1m     Total\u001b[0m\u001b[1m \u001b[0m│\u001b[1m \u001b[0m\u001b[1m92,160    \u001b[0m\u001b[1m \u001b[0m│\u001b[1m \u001b[0m\u001b[1m189,082    \u001b[0m\u001b[1m \u001b[0m│\n",
      "│\u001b[1m            \u001b[0m│\u001b[1m            \u001b[0m│\u001b[1m            \u001b[0m│\u001b[1m            \u001b[0m│\u001b[1m \u001b[0m\u001b[1;2m(368.6 KB)\u001b[0m\u001b[1m \u001b[0m│\u001b[1m \u001b[0m\u001b[1;2m(756.3 KB)\u001b[0m\u001b[1m \u001b[0m\u001b[1m \u001b[0m│\n",
      "└────────────┴────────────┴────────────┴────────────┴────────────┴─────────────┘\n",
      "\u001b[1m                                                                                \u001b[0m\n",
      "\u001b[1m                       Total Parameters: 281,242 \u001b[0m\u001b[1;2m(1.1 MB)\u001b[0m\u001b[1m                       \u001b[0m\n",
      "\n",
      "\n"
     ]
    }
   ],
   "source": [
    "class _guided_forward_fn(nn.Module):\n",
    "\n",
    "    @nn.compact\n",
    "    def __call__(self, x):\n",
    "        batch_size = x.shape[0]\n",
    "        # Unflatten for the convolution layers\n",
    "        x = x.reshape(batch_size, 28, 28, 1)\n",
    "        conv_layers = nn.Sequential([\n",
    "            nn.Conv(features=16, kernel_size=(3, 3), padding=\"VALID\", use_bias=False), guided_relu,\n",
    "            nn.Conv(features=32, kernel_size=(3, 3), padding=\"VALID\", use_bias=False), guided_relu,  \n",
    "        ])\n",
    "        x = conv_layers(x)\n",
    "        # Use perturb to extract the gradients for the final conv layer\n",
    "        x = self.perturb(\"conv_1\", x)\n",
    "        # Save the final convolution layer as an intermediate so \n",
    "        # it can be accessed for the cam algorithm\n",
    "        self.sow(\"intermediates\", \"final_conv_layer\", x)\n",
    "        # Flatten\n",
    "        x = x.reshape((batch_size, -1))\n",
    "        x = nn.Dense(10)(x)\n",
    "        return jax.nn.softmax(x)\n",
    "\n",
    "# Create the model object\n",
    "guided_forward_fn = _guided_forward_fn()\n",
    "# Display the model details\n",
    "dummy_x = X_train[:5]\n",
    "rng_key = random.PRNGKey(64)\n",
    "print(guided_forward_fn.tabulate(rng_key, dummy_x))"
   ]
  },
  {
   "cell_type": "markdown",
   "metadata": {},
   "source": [
    "### Create new loss function with guided model\n",
    "\n",
    "A new loss function containing the model with guided relu layers is required when performing gradient calculations for the attribution maps."
   ]
  },
  {
   "cell_type": "code",
   "execution_count": 10,
   "metadata": {},
   "outputs": [],
   "source": [
    "def guided_loss_fn(params, perturbations, X, Y):\n",
    "    variables = {\n",
    "        'params': params,\n",
    "        'perturbations': perturbations\n",
    "    }\n",
    "    logits = guided_forward_fn.apply(variables, X)\n",
    "    loss = optax.softmax_cross_entropy_with_integer_labels(logits, Y)\n",
    "    loss = loss.mean()\n",
    "    return loss"
   ]
  },
  {
   "cell_type": "markdown",
   "metadata": {},
   "source": [
    "### Display predictions and attribution maps\n",
    "\n",
    "For this method we need both the upscaled Grad-CAM map and guided grads. The upscaled Grad-CAM map and guided grads are then multiplied to get the final attribution map. As shown in the grad-cam notebook we need the final convolution layer gradients. To save performing two backward passes we can extract both the guided grads and final conv grads in a single pass by performing both gradient calculations on the guided loss function. This ensures the speed of the method will be similar to Grad-CAM.\n"
   ]
  },
  {
   "cell_type": "code",
   "execution_count": 11,
   "metadata": {},
   "outputs": [],
   "source": [
    "def make_predictions(X, params, perturbations):\n",
    "    logits, state = forward_fn.apply({'params': params, 'perturbations': perturbations}, X, mutable='intermediates')\n",
    "    predictions = get_predictions(logits)\n",
    "    return predictions, state\n",
    "\n",
    "def prep_image(image):\n",
    "    # Normalize the gradient values to be between 0-1\n",
    "    max_val= np.max(image)\n",
    "    min_val = np.min(image)\n",
    "    image = (image - min_val) / (max_val - min_val)\n",
    "    # Convert the grads to uint8 for displaying\n",
    "    image = np.uint8(image * 255)\n",
    "    return image   \n",
    "\n",
    "def display_prediction(index, params):\n",
    "    current_image = X_val[None, index]\n",
    "    rng = jax.random.PRNGKey(42)\n",
    "    init_variables = forward_fn.init(rng, current_image)\n",
    "    init_perturbations = init_variables[\"perturbations\"]\n",
    "    prediction, state = make_predictions(X_val[None, index], params, init_perturbations)\n",
    "\n",
    "    label = Y_val[index]\n",
    "    print(\"Prediction: \", prediction)\n",
    "    print(\"Label: \", label)\n",
    "\n",
    "    display_image = current_image.reshape((28, 28)) * 255\n",
    "    plt.gray()\n",
    "    plt.imshow(display_image, interpolation='nearest')\n",
    "    plt.axis('off')\n",
    "    plt.title(\"Input Image\")\n",
    "    plt.show()\n",
    "\n",
    "    # Extract final conv layers values\n",
    "    final_conv_layer = state[\"intermediates\"][\"final_conv_layer\"][0][0]\n",
    "    # Get final conv gradients\n",
    "    perturbations = freeze({\"conv_1\": final_conv_layer})\n",
    "    # Extract conv grads for grad-cam and input grads for guided backprop using the guided relu loss\n",
    "    final_conv_grads, guided_grads = grad(guided_loss_fn, argnums=(1, 2))(params, perturbations, current_image, label[None, ...])\n",
    "    final_conv_grads = final_conv_grads[\"conv_1\"]\n",
    "    # Get weights using global average pooling\n",
    "    weights = jnp.mean(final_conv_grads, axis=(0, 1))\n",
    "    # Get the weighted sum of all the filters\n",
    "    cam = jnp.dot(final_conv_layer, weights)\n",
    "    cam = prep_image(cam)\n",
    "    # Upscale cam so its the same resolution as the guided grads\n",
    "    cam = jax.image.resize(cam, shape=(28, 28), method=\"bilinear\")\n",
    "    # Prepare guided grads\n",
    "    guided_grads = guided_grads.reshape((28, 28))\n",
    "    guided_grads = prep_image(guided_grads)\n",
    "    # Multiply cam and guided grads to get attributions\n",
    "    attributions = guided_grads * cam\n",
    "\n",
    "    plt.gray()\n",
    "    plt.imshow(attributions, interpolation='nearest')\n",
    "    plt.axis('off')\n",
    "    plt.title(\"Attribution Map\")\n",
    "    plt.show()"
   ]
  },
  {
   "cell_type": "code",
   "execution_count": 12,
   "metadata": {},
   "outputs": [
    {
     "name": "stdout",
     "output_type": "stream",
     "text": [
      "Prediction:  [1]\n",
      "Label:  1\n"
     ]
    },
    {
     "data": {
      "image/png": "[encoded data removed]",
      "text/plain": [
       "<Figure size 640x480 with 1 Axes>"
      ]
     },
     "metadata": {},
     "output_type": "display_data"
    },
    {
     "data": {
      "image/png": "[encoded data removed]",
      "text/plain": [
       "<Figure size 640x480 with 1 Axes>"
      ]
     },
     "metadata": {},
     "output_type": "display_data"
    },
    {
     "name": "stdout",
     "output_type": "stream",
     "text": [
      "Prediction:  [4]\n",
      "Label:  4\n"
     ]
    },
    {
     "data": {
      "image/png": "[encoded data removed]",
      "text/plain": [
       "<Figure size 640x480 with 1 Axes>"
      ]
     },
     "metadata": {},
     "output_type": "display_data"
    },
    {
     "data": {
      "image/png": "[encoded data removed]",
      "text/plain": [
       "<Figure size 640x480 with 1 Axes>"
      ]
     },
     "metadata": {},
     "output_type": "display_data"
    },
    {
     "name": "stdout",
     "output_type": "stream",
     "text": [
      "Prediction:  [0]\n",
      "Label:  0\n"
     ]
    },
    {
     "data": {
      "image/png": "[encoded data removed]",
      "text/plain": [
       "<Figure size 640x480 with 1 Axes>"
      ]
     },
     "metadata": {},
     "output_type": "display_data"
    },
    {
     "data": {
      "image/png": "[encoded data removed]",
      "text/plain": [
       "<Figure size 640x480 with 1 Axes>"
      ]
     },
     "metadata": {},
     "output_type": "display_data"
    },
    {
     "name": "stdout",
     "output_type": "stream",
     "text": [
      "Prediction:  [5]\n",
      "Label:  5\n"
     ]
    },
    {
     "data": {
      "image/png": "[encoded data removed]",
      "text/plain": [
       "<Figure size 640x480 with 1 Axes>"
      ]
     },
     "metadata": {},
     "output_type": "display_data"
    },
    {
     "data": {
      "image/png": "[encoded data removed]",
      "text/plain": [
       "<Figure size 640x480 with 1 Axes>"
      ]
     },
     "metadata": {},
     "output_type": "display_data"
    },
    {
     "name": "stdout",
     "output_type": "stream",
     "text": [
      "Prediction:  [8]\n",
      "Label:  8\n"
     ]
    },
    {
     "data": {
      "image/png": "[encoded data removed]",
      "text/plain": [
       "<Figure size 640x480 with 1 Axes>"
      ]
     },
     "metadata": {},
     "output_type": "display_data"
    },
    {
     "data": {
      "image/png": "[encoded data removed]",
      "text/plain": [
       "<Figure size 640x480 with 1 Axes>"
      ]
     },
     "metadata": {},
     "output_type": "display_data"
    },
    {
     "name": "stdout",
     "output_type": "stream",
     "text": [
      "Prediction:  [7]\n",
      "Label:  7\n"
     ]
    },
    {
     "data": {
      "image/png": "[encoded data removed]",
      "text/plain": [
       "<Figure size 640x480 with 1 Axes>"
      ]
     },
     "metadata": {},
     "output_type": "display_data"
    },
    {
     "data": {
      "image/png": "[encoded data removed]",
      "text/plain": [
       "<Figure size 640x480 with 1 Axes>"
      ]
     },
     "metadata": {},
     "output_type": "display_data"
    }
   ],
   "source": [
    "display_prediction(0, params)\n",
    "display_prediction(3, params)\n",
    "display_prediction(5, params)\n",
    "display_prediction(8, params)\n",
    "display_prediction(10, params)\n",
    "display_prediction(50, params)"
   ]
  }
 ],
 "metadata": {
  "kernelspec": {
   "display_name": "venv",
   "language": "python",
   "name": "python3"
  },
  "language_info": {
   "codemirror_mode": {
    "name": "ipython",
    "version": 3
   },
   "file_extension": ".py",
   "mimetype": "text/x-python",
   "name": "python",
   "nbconvert_exporter": "python",
   "pygments_lexer": "ipython3",
   "version": "3.12.3"
  },
  "orig_nbformat": 4
 },
 "nbformat": 4,
 "nbformat_minor": 2
}
