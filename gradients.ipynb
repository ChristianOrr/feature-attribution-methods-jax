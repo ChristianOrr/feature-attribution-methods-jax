{
 "cells": [
  {
   "cell_type": "markdown",
   "metadata": {},
   "source": [
    "# Gradients Attribution\n",
    "\n",
    "The gradients attribution method produces an image-specific class saliency map which corresponds to the gradient of the output with respect to the input, hence the name \"gradients\". This is the simplest saliency method and is the easiest to implement. It can be used with any classification model, since it only depends on the inputs gradients, not any gradients from the hidden layers.\n",
    "\n",
    "For more technical information on the gradients attribution method see: [Deep Inside Convolutional Networks: Visualising Image Classification Models and Saliency Maps](https://arxiv.org/abs/1312.6034)\n"
   ]
  },
  {
   "cell_type": "code",
   "execution_count": 1,
   "metadata": {},
   "outputs": [
    {
     "name": "stderr",
     "output_type": "stream",
     "text": [
      "2022-11-06 14:40:46.172285: E tensorflow/stream_executor/cuda/cuda_blas.cc:2981] Unable to register cuBLAS factory: Attempting to register factory for plugin cuBLAS when one has already been registered\n",
      "2022-11-06 14:40:52.934388: W tensorflow/stream_executor/platform/default/dso_loader.cc:64] Could not load dynamic library 'libnvinfer.so.7'; dlerror: libnvinfer.so.7: cannot open shared object file: No such file or directory; LD_LIBRARY_PATH: /usr/local/cuda-11.6/lib64:\n",
      "2022-11-06 14:40:53.027026: W tensorflow/stream_executor/platform/default/dso_loader.cc:64] Could not load dynamic library 'libnvinfer_plugin.so.7'; dlerror: libnvinfer_plugin.so.7: cannot open shared object file: No such file or directory; LD_LIBRARY_PATH: /usr/local/cuda-11.6/lib64:\n",
      "2022-11-06 14:40:53.036324: W tensorflow/compiler/tf2tensorrt/utils/py_utils.cc:38] TF-TRT Warning: Cannot dlopen some TensorRT libraries. If you would like to use Nvidia GPU with TensorRT, please make sure the missing libraries mentioned above are installed properly.\n"
     ]
    }
   ],
   "source": [
    "import os\n",
    "import numpy as np\n",
    "import pandas as pd\n",
    "import matplotlib.pyplot as plt\n",
    "import jax.numpy as jnp\n",
    "import flax.linen as nn\n",
    "import jax\n",
    "from jax import random\n",
    "from jax import grad\n",
    "from keras.utils import data_utils"
   ]
  },
  {
   "cell_type": "markdown",
   "metadata": {},
   "source": [
    "### Load training data\n",
    "Check if the training data exists. If not, automatically download it."
   ]
  },
  {
   "cell_type": "code",
   "execution_count": 2,
   "metadata": {},
   "outputs": [],
   "source": [
    "data_dir = os.path.abspath(\"./digit-recognizer\")\n",
    "os.makedirs(data_dir, exist_ok=True)\n",
    "train_data_path = f\"{data_dir}/train.zip\"\n",
    "train_data_url = \"https://huggingface.co/datasets/ChristianOrr/mnist/resolve/main/train.zip\"\n",
    "\n",
    "if not os.path.exists(train_data_path):\n",
    "    print(\"Downloading training data...\")\n",
    "    data_utils.get_file(\n",
    "        train_data_path, \n",
    "        train_data_url, \n",
    "        extract=True, \n",
    "        cache_dir=data_dir\n",
    "        )\n",
    "\n",
    "data_df = pd.read_csv('./digit-recognizer/datasets/train.csv')"
   ]
  },
  {
   "cell_type": "code",
   "execution_count": 3,
   "metadata": {},
   "outputs": [],
   "source": [
    "val_size = 1000\n",
    "# Only shuffle training data\n",
    "np.random.shuffle(data_df[val_size:].values)\n",
    "m, n = data_df.shape\n",
    "Y = jnp.array(data_df[\"label\"])\n",
    "data_df = data_df.drop(\"label\", axis=1)\n",
    "X = jnp.array(data_df)\n",
    "\n",
    "\n",
    "X_train = X[val_size:]\n",
    "X_train = X_train / 255.\n",
    "Y_train = Y[val_size:]\n",
    "\n",
    "X_val = X[:val_size]\n",
    "X_val = X_val / 255.\n",
    "Y_val = Y[:val_size]"
   ]
  },
  {
   "cell_type": "markdown",
   "metadata": {},
   "source": [
    "### Define the classification model"
   ]
  },
  {
   "cell_type": "code",
   "execution_count": 4,
   "metadata": {},
   "outputs": [
    {
     "name": "stdout",
     "output_type": "stream",
     "text": [
      "\n",
      "\u001b[3m                              _forward_fn Summary                               \u001b[0m\n",
      "┏━━━━━━━━━━━━━━┳━━━━━━━━━━━━━┳━━━━━━━━━━━━━━━━┳━━━━━━━━━━━━━━━┳━━━━━━━━━━━━━━━━┓\n",
      "┃\u001b[1m \u001b[0m\u001b[1mpath        \u001b[0m\u001b[1m \u001b[0m┃\u001b[1m \u001b[0m\u001b[1mmodule     \u001b[0m\u001b[1m \u001b[0m┃\u001b[1m \u001b[0m\u001b[1minputs        \u001b[0m\u001b[1m \u001b[0m┃\u001b[1m \u001b[0m\u001b[1moutputs      \u001b[0m\u001b[1m \u001b[0m┃\u001b[1m \u001b[0m\u001b[1mparams        \u001b[0m\u001b[1m \u001b[0m┃\n",
      "┡━━━━━━━━━━━━━━╇━━━━━━━━━━━━━╇━━━━━━━━━━━━━━━━╇━━━━━━━━━━━━━━━╇━━━━━━━━━━━━━━━━┩\n",
      "│              │ _forward_fn │ \u001b[2mfloat32\u001b[0m[5,784] │ \u001b[2mfloat32\u001b[0m[5,10] │                │\n",
      "├──────────────┼─────────────┼────────────────┼───────────────┼────────────────┤\n",
      "│ Sequential_0 │ Sequential  │ \u001b[2mfloat32\u001b[0m[5,784] │ \u001b[2mfloat32\u001b[0m[5,10] │                │\n",
      "├──────────────┼─────────────┼────────────────┼───────────────┼────────────────┤\n",
      "│ Dense_0      │ Dense       │ \u001b[2mfloat32\u001b[0m[5,784] │ \u001b[2mfloat32\u001b[0m[5,10] │ bias:          │\n",
      "│              │             │                │               │ \u001b[2mfloat32\u001b[0m[10]    │\n",
      "│              │             │                │               │ kernel:        │\n",
      "│              │             │                │               │ \u001b[2mfloat32\u001b[0m[784,1… │\n",
      "│              │             │                │               │                │\n",
      "│              │             │                │               │ \u001b[1m7,850 \u001b[0m\u001b[1;2m(31.4 \u001b[0m   │\n",
      "│              │             │                │               │ \u001b[1;2mKB)\u001b[0m            │\n",
      "├──────────────┼─────────────┼────────────────┼───────────────┼────────────────┤\n",
      "│ Dense_1      │ Dense       │ \u001b[2mfloat32\u001b[0m[5,10]  │ \u001b[2mfloat32\u001b[0m[5,10] │ bias:          │\n",
      "│              │             │                │               │ \u001b[2mfloat32\u001b[0m[10]    │\n",
      "│              │             │                │               │ kernel:        │\n",
      "│              │             │                │               │ \u001b[2mfloat32\u001b[0m[10,10] │\n",
      "│              │             │                │               │                │\n",
      "│              │             │                │               │ \u001b[1m110 \u001b[0m\u001b[1;2m(440 B)\u001b[0m    │\n",
      "├──────────────┼─────────────┼────────────────┼───────────────┼────────────────┤\n",
      "│\u001b[1m \u001b[0m\u001b[1m            \u001b[0m\u001b[1m \u001b[0m│\u001b[1m \u001b[0m\u001b[1m           \u001b[0m\u001b[1m \u001b[0m│\u001b[1m \u001b[0m\u001b[1m              \u001b[0m\u001b[1m \u001b[0m│\u001b[1m \u001b[0m\u001b[1m        Total\u001b[0m\u001b[1m \u001b[0m│\u001b[1m \u001b[0m\u001b[1m7,960 \u001b[0m\u001b[1;2m(31.8 \u001b[0m\u001b[1m  \u001b[0m\u001b[1m \u001b[0m│\n",
      "│\u001b[1m              \u001b[0m│\u001b[1m             \u001b[0m│\u001b[1m                \u001b[0m│\u001b[1m               \u001b[0m│\u001b[1m \u001b[0m\u001b[1;2mKB)\u001b[0m\u001b[1m           \u001b[0m\u001b[1m \u001b[0m│\n",
      "└──────────────┴─────────────┴────────────────┴───────────────┴────────────────┘\n",
      "\u001b[1m                                                                                \u001b[0m\n",
      "\u001b[1m                       Total Parameters: 7,960 \u001b[0m\u001b[1;2m(31.8 KB)\u001b[0m\u001b[1m                        \u001b[0m\n",
      "\n",
      "\n"
     ]
    }
   ],
   "source": [
    "class _forward_fn(nn.Module):\n",
    "\n",
    "    @nn.compact\n",
    "    def __call__(self, x):\n",
    "        mlp = nn.Sequential([\n",
    "            nn.Dense(10), jax.nn.relu,\n",
    "            nn.Dense(10), jax.nn.softmax        \n",
    "        ])\n",
    "        return mlp(x)\n",
    "\n",
    "# Create the model object\n",
    "forward_fn = _forward_fn()\n",
    "# Display the model details\n",
    "dummy_x = X_train[:5]\n",
    "rng_key = random.PRNGKey(64)\n",
    "initial_params = forward_fn.init(rng_key, dummy_x)\n",
    "print(forward_fn.tabulate(rng_key, dummy_x))"
   ]
  },
  {
   "cell_type": "markdown",
   "metadata": {},
   "source": [
    "### Define the loss function and update method"
   ]
  },
  {
   "cell_type": "code",
   "execution_count": 5,
   "metadata": {},
   "outputs": [],
   "source": [
    "def one_hot(x, k, dtype=jnp.float32):\n",
    "    \"\"\"Create a one-hot encoding of x of size k.\"\"\"\n",
    "    return jnp.array(x[..., None] == jnp.arange(k), dtype)\n",
    "\n",
    "def loss_fn(params, X, Y):\n",
    "    logits = forward_fn.apply(params, X)\n",
    "    one_hot_Y = one_hot(Y, 10)\n",
    "    loss = -jnp.sum(one_hot_Y * jnp.log(logits)) / m\n",
    "    return loss\n",
    "\n",
    "\n",
    "def update_rule(params, update):\n",
    "    return params - 0.1 * update\n",
    "\n",
    "def update_params(params, alpha, X, Y):\n",
    "    grads = grad(loss_fn, argnums=0)(params, X, Y)\n",
    "    params = jax.tree_util.tree_map(update_rule, params, grads)\n",
    "    return params\n"
   ]
  },
  {
   "cell_type": "markdown",
   "metadata": {},
   "source": [
    "### Train the model"
   ]
  },
  {
   "cell_type": "code",
   "execution_count": 6,
   "metadata": {},
   "outputs": [],
   "source": [
    "def get_predictions(logits):\n",
    "    return jnp.argmax(logits, axis=1)\n",
    "\n",
    "def get_accuracy(predictions, Y):\n",
    "    return jnp.mean(predictions == Y)\n",
    "\n",
    "def gradient_descent(X, Y, alpha, iterations):\n",
    "    rng = jax.random.PRNGKey(42)\n",
    "    params = forward_fn.init(rng, X)\n",
    "    for i in range(iterations):\n",
    "        params = update_params(params, alpha, X, Y)\n",
    "        if i % 10 == 0:\n",
    "            print(\"Iteration: \", i)\n",
    "            logits = forward_fn.apply(params, X)\n",
    "            predictions = get_predictions(logits)\n",
    "            print(get_accuracy(predictions, Y))\n",
    "    return params"
   ]
  },
  {
   "cell_type": "code",
   "execution_count": 7,
   "metadata": {},
   "outputs": [
    {
     "name": "stdout",
     "output_type": "stream",
     "text": [
      "Iteration:  0\n",
      "0.103780486\n",
      "Iteration:  10\n",
      "0.36387804\n",
      "Iteration:  20\n",
      "0.4557073\n",
      "Iteration:  30\n",
      "0.52492684\n",
      "Iteration:  40\n",
      "0.5534634\n",
      "Iteration:  50\n",
      "0.59139025\n",
      "Iteration:  60\n",
      "0.63192683\n",
      "Iteration:  70\n",
      "0.6621707\n",
      "Iteration:  80\n",
      "0.6832927\n",
      "Iteration:  90\n",
      "0.70224386\n",
      "Iteration:  100\n",
      "0.71763414\n",
      "Iteration:  110\n",
      "0.73229265\n",
      "Iteration:  120\n",
      "0.74560976\n",
      "Iteration:  130\n",
      "0.7611951\n",
      "Iteration:  140\n",
      "0.7747561\n",
      "Iteration:  150\n",
      "0.7866829\n",
      "Iteration:  160\n",
      "0.795439\n",
      "Iteration:  170\n",
      "0.80202436\n",
      "Iteration:  180\n",
      "0.80826825\n",
      "Iteration:  190\n",
      "0.8137073\n",
      "Iteration:  200\n",
      "0.8189268\n",
      "Iteration:  210\n",
      "0.82275605\n",
      "Iteration:  220\n",
      "0.82707316\n",
      "Iteration:  230\n",
      "0.83134145\n",
      "Iteration:  240\n",
      "0.8345122\n",
      "Iteration:  250\n",
      "0.83763415\n",
      "Iteration:  260\n",
      "0.8410488\n",
      "Iteration:  270\n",
      "0.8441463\n",
      "Iteration:  280\n",
      "0.8468536\n",
      "Iteration:  290\n",
      "0.8494146\n",
      "Iteration:  300\n",
      "0.8514634\n",
      "Iteration:  310\n",
      "0.8536341\n",
      "Iteration:  320\n",
      "0.8555366\n",
      "Iteration:  330\n",
      "0.858\n",
      "Iteration:  340\n",
      "0.8599512\n",
      "Iteration:  350\n",
      "0.86229265\n",
      "Iteration:  360\n",
      "0.86417073\n",
      "Iteration:  370\n",
      "0.86612195\n",
      "Iteration:  380\n",
      "0.8676829\n",
      "Iteration:  390\n",
      "0.86931705\n",
      "Iteration:  400\n",
      "0.8712195\n",
      "Iteration:  410\n",
      "0.872878\n",
      "Iteration:  420\n",
      "0.8742195\n",
      "Iteration:  430\n",
      "0.8755853\n",
      "Iteration:  440\n",
      "0.87658536\n",
      "Iteration:  450\n",
      "0.8776829\n",
      "Iteration:  460\n",
      "0.87882924\n",
      "Iteration:  470\n",
      "0.8798536\n",
      "Iteration:  480\n",
      "0.88095117\n",
      "Iteration:  490\n",
      "0.8815609\n"
     ]
    }
   ],
   "source": [
    "params = gradient_descent(X_train, Y_train, 0.10, 500)"
   ]
  },
  {
   "cell_type": "markdown",
   "metadata": {},
   "source": [
    "### Display predictions and saliency maps\n",
    "\n",
    "The jax \"grad\" function is used to extract the gradients used for the saliency map. Only the input gradients are needed, hence agrnums=1. This is different to how grad is used for training, shown above. When training only the gradients for the models parameters are needed. Its also possible to extract the input gradients while training, which could be useful for debugging.  "
   ]
  },
  {
   "cell_type": "code",
   "execution_count": 10,
   "metadata": {},
   "outputs": [],
   "source": [
    "def make_predictions(X, params):\n",
    "    logits = forward_fn.apply(params, X)\n",
    "    predictions = get_predictions(logits)\n",
    "    return predictions\n",
    "\n",
    "def prep_image(image):\n",
    "    # Normalize the gradient values to be between 0-1\n",
    "    max_val= np.max(image)\n",
    "    min_val = np.min(image)\n",
    "    image = (image - min_val) / (max_val - min_val)\n",
    "    # Convert the grads to uint8 for displaying\n",
    "    image = np.uint8(image * 255)\n",
    "    return image  \n",
    "\n",
    "def display_prediction(index, params):\n",
    "    current_image = X_val[None, index]\n",
    "    prediction = make_predictions(X_val[None, index], params)\n",
    "    label = Y_val[index]\n",
    "    print(\"Prediction: \", prediction)\n",
    "    print(\"Label: \", label)\n",
    "\n",
    "    display_image = current_image.reshape((28, 28)) * 255\n",
    "    plt.gray()\n",
    "    plt.imshow(display_image, interpolation='nearest')\n",
    "    plt.axis('off')\n",
    "    plt.title(\"Input Image\")\n",
    "    plt.show()\n",
    "\n",
    "    # Calculate the derivative WRT the input image\n",
    "    attributions = grad(loss_fn, argnums=1)(params, current_image, label)[0]\n",
    "\n",
    "    attributions = attributions.reshape((28, 28))\n",
    "    attributions = prep_image(attributions)\n",
    "    plt.gray()\n",
    "    plt.imshow(attributions, interpolation='nearest')\n",
    "    plt.axis('off')\n",
    "    plt.title(\"Saliency Map\")\n",
    "    plt.show()"
   ]
  },
  {
   "cell_type": "code",
   "execution_count": 11,
   "metadata": {},
   "outputs": [
    {
     "name": "stdout",
     "output_type": "stream",
     "text": [
      "Prediction:  [1]\n",
      "Label:  1\n"
     ]
    },
    {
     "data": {
      "image/png": "[encoded data removed]",
      "text/plain": [
       "<Figure size 640x480 with 1 Axes>"
      ]
     },
     "metadata": {},
     "output_type": "display_data"
    },
    {
     "data": {
      "image/png": "[encoded data removed]",
      "text/plain": [
       "<Figure size 640x480 with 1 Axes>"
      ]
     },
     "metadata": {},
     "output_type": "display_data"
    },
    {
     "name": "stdout",
     "output_type": "stream",
     "text": [
      "Prediction:  [6]\n",
      "Label:  4\n"
     ]
    },
    {
     "data": {
      "image/png": "[encoded data removed]",
      "text/plain": [
       "<Figure size 640x480 with 1 Axes>"
      ]
     },
     "metadata": {},
     "output_type": "display_data"
    },
    {
     "data": {
      "image/png": "[encoded data removed]",
      "text/plain": [
       "<Figure size 640x480 with 1 Axes>"
      ]
     },
     "metadata": {},
     "output_type": "display_data"
    },
    {
     "name": "stdout",
     "output_type": "stream",
     "text": [
      "Prediction:  [3]\n",
      "Label:  0\n"
     ]
    },
    {
     "data": {
      "image/png": "[encoded data removed]",
      "text/plain": [
       "<Figure size 640x480 with 1 Axes>"
      ]
     },
     "metadata": {},
     "output_type": "display_data"
    },
    {
     "data": {
      "image/png": "[encoded data removed]",
      "text/plain": [
       "<Figure size 640x480 with 1 Axes>"
      ]
     },
     "metadata": {},
     "output_type": "display_data"
    },
    {
     "name": "stdout",
     "output_type": "stream",
     "text": [
      "Prediction:  [5]\n",
      "Label:  5\n"
     ]
    },
    {
     "data": {
      "image/png": "[encoded data removed]",
      "text/plain": [
       "<Figure size 640x480 with 1 Axes>"
      ]
     },
     "metadata": {},
     "output_type": "display_data"
    },
    {
     "data": {
      "image/png": "[encoded data removed]",
      "text/plain": [
       "<Figure size 640x480 with 1 Axes>"
      ]
     },
     "metadata": {},
     "output_type": "display_data"
    },
    {
     "name": "stdout",
     "output_type": "stream",
     "text": [
      "Prediction:  [8]\n",
      "Label:  8\n"
     ]
    },
    {
     "data": {
      "image/png": "[encoded data removed]",
      "text/plain": [
       "<Figure size 640x480 with 1 Axes>"
      ]
     },
     "metadata": {},
     "output_type": "display_data"
    },
    {
     "data": {
      "image/png": "[encoded data removed]",
      "text/plain": [
       "<Figure size 640x480 with 1 Axes>"
      ]
     },
     "metadata": {},
     "output_type": "display_data"
    },
    {
     "name": "stdout",
     "output_type": "stream",
     "text": [
      "Prediction:  [7]\n",
      "Label:  7\n"
     ]
    },
    {
     "data": {
      "image/png": "[encoded data removed]",
      "text/plain": [
       "<Figure size 640x480 with 1 Axes>"
      ]
     },
     "metadata": {},
     "output_type": "display_data"
    },
    {
     "data": {
      "image/png": "[encoded data removed]",
      "text/plain": [
       "<Figure size 640x480 with 1 Axes>"
      ]
     },
     "metadata": {},
     "output_type": "display_data"
    }
   ],
   "source": [
    "display_prediction(0, params)\n",
    "display_prediction(3, params)\n",
    "display_prediction(5, params)\n",
    "display_prediction(8, params)\n",
    "display_prediction(10, params)\n",
    "display_prediction(50, params)"
   ]
  }
 ],
 "metadata": {
  "kernelspec": {
   "display_name": "Python 3.9.13 ('flax')",
   "language": "python",
   "name": "python3"
  },
  "language_info": {
   "codemirror_mode": {
    "name": "ipython",
    "version": 3
   },
   "file_extension": ".py",
   "mimetype": "text/x-python",
   "name": "python",
   "nbconvert_exporter": "python",
   "pygments_lexer": "ipython3",
   "version": "3.9.13"
  },
  "orig_nbformat": 4,
  "vscode": {
   "interpreter": {
    "hash": "0a8d1f2580cdfde5c5829808ec6fccc81a351d243fb8b1925f7928e44ccf575b"
   }
  }
 },
 "nbformat": 4,
 "nbformat_minor": 2
}
