{
 "cells": [
  {
   "cell_type": "markdown",
   "metadata": {},
   "source": [
    "# Gradients $\\times$ Input on MNIST\n",
    "\n",
    "The gradients $\\times$ input attribution method produces an image-specific class saliency map which corresponds to the gradient of the output with respect to the input times the input, hence the name \"gradients $\\times$ input\". This method is derived from the standard gradient method, shown in a seperate notebook. Its as simple as the gradient attribution method, but provides clearer results. It can be used with any classification model, since it only depends on the inputs gradients, not any gradients from the hidden layers and the input themselves.\n",
    "\n",
    "For more technical information on the gradients $\\times$ input attribution method see: [Learning Important Features Through Propagating Activation Differences](https://arxiv.org/abs/1704.02685)\n"
   ]
  },
  {
   "cell_type": "code",
   "execution_count": 1,
   "metadata": {},
   "outputs": [
    {
     "name": "stderr",
     "output_type": "stream",
     "text": [
      "2022-11-01 13:38:28.856462: E tensorflow/stream_executor/cuda/cuda_blas.cc:2981] Unable to register cuBLAS factory: Attempting to register factory for plugin cuBLAS when one has already been registered\n",
      "2022-11-01 13:38:30.276826: W tensorflow/stream_executor/platform/default/dso_loader.cc:64] Could not load dynamic library 'libnvinfer.so.7'; dlerror: libnvinfer.so.7: cannot open shared object file: No such file or directory; LD_LIBRARY_PATH: /usr/local/cuda-11.6/lib64:\n",
      "2022-11-01 13:38:30.277116: W tensorflow/stream_executor/platform/default/dso_loader.cc:64] Could not load dynamic library 'libnvinfer_plugin.so.7'; dlerror: libnvinfer_plugin.so.7: cannot open shared object file: No such file or directory; LD_LIBRARY_PATH: /usr/local/cuda-11.6/lib64:\n",
      "2022-11-01 13:38:30.277125: W tensorflow/compiler/tf2tensorrt/utils/py_utils.cc:38] TF-TRT Warning: Cannot dlopen some TensorRT libraries. If you would like to use Nvidia GPU with TensorRT, please make sure the missing libraries mentioned above are installed properly.\n"
     ]
    }
   ],
   "source": [
    "import os\n",
    "import numpy as np\n",
    "import pandas as pd\n",
    "import matplotlib.pyplot as plt\n",
    "import jax.numpy as jnp\n",
    "import flax\n",
    "import flax.linen as nn\n",
    "import jax\n",
    "from jax import random\n",
    "from jax import vmap\n",
    "from jax import grad\n",
    "from keras.utils import data_utils"
   ]
  },
  {
   "cell_type": "markdown",
   "metadata": {},
   "source": [
    "### Load training data\n",
    "Check if the training data exists. If not, automatically download it."
   ]
  },
  {
   "cell_type": "code",
   "execution_count": 2,
   "metadata": {},
   "outputs": [],
   "source": [
    "data_dir = os.path.abspath(\"./digit-recognizer\")\n",
    "os.makedirs(data_dir, exist_ok=True)\n",
    "train_data_path = f\"{data_dir}/train.csv\"\n",
    "train_data_url = \"https://huggingface.co/datasets/ChristianOrr/mnist/resolve/main/train.csv\"\n",
    "\n",
    "if not os.path.exists(train_data_path):\n",
    "    print(\"Downloading training data...\")\n",
    "    data_utils.get_file(train_data_path, train_data_url)\n",
    "\n",
    "data_df = pd.read_csv('./digit-recognizer/train.csv')"
   ]
  },
  {
   "cell_type": "code",
   "execution_count": 3,
   "metadata": {},
   "outputs": [],
   "source": [
    "np.random.shuffle(data_df.values)\n",
    "m, n = data_df.shape\n",
    "Y = jnp.array(data_df[\"label\"])\n",
    "data_df = data_df.drop(\"label\", axis=1)\n",
    "X = jnp.array(data_df)\n",
    "\n",
    "\n",
    "X_train = X[1000:]\n",
    "X_train = X_train / 255.\n",
    "Y_train = Y[1000:]\n",
    "\n",
    "X_val = X[:1000]\n",
    "X_val = X_val / 255.\n",
    "Y_val = Y[:1000]"
   ]
  },
  {
   "cell_type": "markdown",
   "metadata": {},
   "source": [
    "### Define the classification model"
   ]
  },
  {
   "cell_type": "code",
   "execution_count": 4,
   "metadata": {},
   "outputs": [
    {
     "name": "stdout",
     "output_type": "stream",
     "text": [
      "\n",
      "\u001b[3m                              _forward_fn Summary                               \u001b[0m\n",
      "┏━━━━━━━━━━━━━━┳━━━━━━━━━━━━━┳━━━━━━━━━━━━━━━━┳━━━━━━━━━━━━━━━┳━━━━━━━━━━━━━━━━┓\n",
      "┃\u001b[1m \u001b[0m\u001b[1mpath        \u001b[0m\u001b[1m \u001b[0m┃\u001b[1m \u001b[0m\u001b[1mmodule     \u001b[0m\u001b[1m \u001b[0m┃\u001b[1m \u001b[0m\u001b[1minputs        \u001b[0m\u001b[1m \u001b[0m┃\u001b[1m \u001b[0m\u001b[1moutputs      \u001b[0m\u001b[1m \u001b[0m┃\u001b[1m \u001b[0m\u001b[1mparams        \u001b[0m\u001b[1m \u001b[0m┃\n",
      "┡━━━━━━━━━━━━━━╇━━━━━━━━━━━━━╇━━━━━━━━━━━━━━━━╇━━━━━━━━━━━━━━━╇━━━━━━━━━━━━━━━━┩\n",
      "│              │ _forward_fn │ \u001b[2mfloat32\u001b[0m[5,784] │ \u001b[2mfloat32\u001b[0m[5,10] │                │\n",
      "├──────────────┼─────────────┼────────────────┼───────────────┼────────────────┤\n",
      "│ Sequential_0 │ Sequential  │ \u001b[2mfloat32\u001b[0m[5,784] │ \u001b[2mfloat32\u001b[0m[5,10] │                │\n",
      "├──────────────┼─────────────┼────────────────┼───────────────┼────────────────┤\n",
      "│ Dense_0      │ Dense       │ \u001b[2mfloat32\u001b[0m[5,784] │ \u001b[2mfloat32\u001b[0m[5,10] │ bias:          │\n",
      "│              │             │                │               │ \u001b[2mfloat32\u001b[0m[10]    │\n",
      "│              │             │                │               │ kernel:        │\n",
      "│              │             │                │               │ \u001b[2mfloat32\u001b[0m[784,1… │\n",
      "│              │             │                │               │                │\n",
      "│              │             │                │               │ \u001b[1m7,850 \u001b[0m\u001b[1;2m(31.4 \u001b[0m   │\n",
      "│              │             │                │               │ \u001b[1;2mKB)\u001b[0m            │\n",
      "├──────────────┼─────────────┼────────────────┼───────────────┼────────────────┤\n",
      "│ Dense_1      │ Dense       │ \u001b[2mfloat32\u001b[0m[5,10]  │ \u001b[2mfloat32\u001b[0m[5,10] │ bias:          │\n",
      "│              │             │                │               │ \u001b[2mfloat32\u001b[0m[10]    │\n",
      "│              │             │                │               │ kernel:        │\n",
      "│              │             │                │               │ \u001b[2mfloat32\u001b[0m[10,10] │\n",
      "│              │             │                │               │                │\n",
      "│              │             │                │               │ \u001b[1m110 \u001b[0m\u001b[1;2m(440 B)\u001b[0m    │\n",
      "├──────────────┼─────────────┼────────────────┼───────────────┼────────────────┤\n",
      "│\u001b[1m \u001b[0m\u001b[1m            \u001b[0m\u001b[1m \u001b[0m│\u001b[1m \u001b[0m\u001b[1m           \u001b[0m\u001b[1m \u001b[0m│\u001b[1m \u001b[0m\u001b[1m              \u001b[0m\u001b[1m \u001b[0m│\u001b[1m \u001b[0m\u001b[1m        Total\u001b[0m\u001b[1m \u001b[0m│\u001b[1m \u001b[0m\u001b[1m7,960 \u001b[0m\u001b[1;2m(31.8 \u001b[0m\u001b[1m  \u001b[0m\u001b[1m \u001b[0m│\n",
      "│\u001b[1m              \u001b[0m│\u001b[1m             \u001b[0m│\u001b[1m                \u001b[0m│\u001b[1m               \u001b[0m│\u001b[1m \u001b[0m\u001b[1;2mKB)\u001b[0m\u001b[1m           \u001b[0m\u001b[1m \u001b[0m│\n",
      "└──────────────┴─────────────┴────────────────┴───────────────┴────────────────┘\n",
      "\u001b[1m                                                                                \u001b[0m\n",
      "\u001b[1m                       Total Parameters: 7,960 \u001b[0m\u001b[1;2m(31.8 KB)\u001b[0m\u001b[1m                        \u001b[0m\n",
      "\n",
      "\n"
     ]
    }
   ],
   "source": [
    "class _forward_fn(nn.Module):\n",
    "\n",
    "    @nn.compact\n",
    "    def __call__(self, x):\n",
    "        mlp = nn.Sequential([\n",
    "            nn.Dense(10), jax.nn.relu,\n",
    "            nn.Dense(10), jax.nn.softmax        \n",
    "        ])\n",
    "        return mlp(x)\n",
    "\n",
    "# Create eh model object\n",
    "forward_fn = _forward_fn()\n",
    "# Display the model details\n",
    "dummy_x = X_train[:5]\n",
    "rng_key = random.PRNGKey(64)\n",
    "initial_params = forward_fn.init(rng_key, dummy_x)\n",
    "print(forward_fn.tabulate(rng_key, dummy_x))"
   ]
  },
  {
   "cell_type": "markdown",
   "metadata": {},
   "source": [
    "### Define the loss function and update method"
   ]
  },
  {
   "cell_type": "code",
   "execution_count": 5,
   "metadata": {},
   "outputs": [],
   "source": [
    "def one_hot(x, k, dtype=jnp.float32):\n",
    "    \"\"\"Create a one-hot encoding of x of size k.\"\"\"\n",
    "    return jnp.array(x[..., None] == jnp.arange(k), dtype)\n",
    "\n",
    "def loss_fn(params, X, Y):\n",
    "    A2 = forward_fn.apply(params, X)\n",
    "    one_hot_Y = one_hot(Y, 10)\n",
    "    loss = -jnp.sum(one_hot_Y * jnp.log(A2)) / m\n",
    "    return loss\n",
    "\n",
    "\n",
    "def update_rule(param, update):\n",
    "    return param - 0.1 * update\n",
    "\n",
    "def update_params(params, alpha, X, Y):\n",
    "    grads = grad(loss_fn, argnums=0)(params, X, Y)\n",
    "    params = jax.tree_util.tree_map(update_rule, params, grads)\n",
    "    return params\n"
   ]
  },
  {
   "cell_type": "markdown",
   "metadata": {},
   "source": [
    "### Train the model"
   ]
  },
  {
   "cell_type": "code",
   "execution_count": 6,
   "metadata": {},
   "outputs": [],
   "source": [
    "def get_predictions(A2):\n",
    "    return jnp.argmax(A2, axis=1)\n",
    "\n",
    "def get_accuracy(predictions, Y):\n",
    "    print(predictions, Y)\n",
    "    return jnp.mean(predictions == Y)\n",
    "\n",
    "def gradient_descent(X, Y, alpha, iterations):\n",
    "    rng = jax.random.PRNGKey(42)\n",
    "    params = forward_fn.init(rng, X)\n",
    "    for i in range(iterations):\n",
    "        params = update_params(params, alpha, X, Y)\n",
    "        if i % 10 == 0:\n",
    "            print(\"Iteration: \", i)\n",
    "            A2 = forward_fn.apply(params, X)\n",
    "            predictions = get_predictions(A2)\n",
    "            print(get_accuracy(predictions, Y))\n",
    "    return params"
   ]
  },
  {
   "cell_type": "code",
   "execution_count": 7,
   "metadata": {},
   "outputs": [
    {
     "name": "stdout",
     "output_type": "stream",
     "text": [
      "Iteration:  0\n",
      "[1 8 1 ... 3 4 2] [0 9 0 ... 7 5 6]\n",
      "0.10341463\n",
      "Iteration:  10\n",
      "[2 2 2 ... 7 4 6] [0 9 0 ... 7 5 6]\n",
      "0.36336583\n",
      "Iteration:  20\n",
      "[2 6 2 ... 7 3 6] [0 9 0 ... 7 5 6]\n",
      "0.4545366\n",
      "Iteration:  30\n",
      "[8 6 6 ... 7 3 6] [0 9 0 ... 7 5 6]\n",
      "0.52558535\n",
      "Iteration:  40\n",
      "[8 6 6 ... 7 3 6] [0 9 0 ... 7 5 6]\n",
      "0.5536097\n",
      "Iteration:  50\n",
      "[8 6 0 ... 7 3 6] [0 9 0 ... 7 5 6]\n",
      "0.591439\n",
      "Iteration:  60\n",
      "[8 6 0 ... 7 3 6] [0 9 0 ... 7 5 6]\n",
      "0.63134146\n",
      "Iteration:  70\n",
      "[8 6 0 ... 7 3 6] [0 9 0 ... 7 5 6]\n",
      "0.66212195\n",
      "Iteration:  80\n",
      "[8 4 0 ... 7 3 6] [0 9 0 ... 7 5 6]\n",
      "0.68351215\n",
      "Iteration:  90\n",
      "[0 4 0 ... 7 3 6] [0 9 0 ... 7 5 6]\n",
      "0.7021463\n",
      "Iteration:  100\n",
      "[0 4 0 ... 7 3 6] [0 9 0 ... 7 5 6]\n",
      "0.7175853\n",
      "Iteration:  110\n",
      "[0 4 0 ... 7 3 6] [0 9 0 ... 7 5 6]\n",
      "0.7324878\n",
      "Iteration:  120\n",
      "[0 4 0 ... 7 3 6] [0 9 0 ... 7 5 6]\n",
      "0.74602437\n",
      "Iteration:  130\n",
      "[0 4 0 ... 7 3 6] [0 9 0 ... 7 5 6]\n",
      "0.7614146\n",
      "Iteration:  140\n",
      "[0 4 0 ... 7 5 6] [0 9 0 ... 7 5 6]\n",
      "0.7744634\n",
      "Iteration:  150\n",
      "[0 4 0 ... 7 5 6] [0 9 0 ... 7 5 6]\n",
      "0.7864146\n",
      "Iteration:  160\n",
      "[0 4 0 ... 7 5 6] [0 9 0 ... 7 5 6]\n",
      "0.7956585\n",
      "Iteration:  170\n",
      "[0 4 0 ... 7 5 6] [0 9 0 ... 7 5 6]\n",
      "0.80212194\n",
      "Iteration:  180\n",
      "[0 4 0 ... 7 5 6] [0 9 0 ... 7 5 6]\n",
      "0.8081219\n",
      "Iteration:  190\n",
      "[0 4 0 ... 7 5 6] [0 9 0 ... 7 5 6]\n",
      "0.8132927\n",
      "Iteration:  200\n",
      "[0 4 0 ... 7 5 6] [0 9 0 ... 7 5 6]\n",
      "0.8189268\n",
      "Iteration:  210\n",
      "[0 4 0 ... 7 5 6] [0 9 0 ... 7 5 6]\n",
      "0.8229268\n",
      "Iteration:  220\n",
      "[0 4 0 ... 7 5 6] [0 9 0 ... 7 5 6]\n",
      "0.82726824\n",
      "Iteration:  230\n",
      "[0 4 0 ... 7 5 6] [0 9 0 ... 7 5 6]\n",
      "0.8311707\n",
      "Iteration:  240\n",
      "[0 4 0 ... 7 5 6] [0 9 0 ... 7 5 6]\n",
      "0.83478045\n",
      "Iteration:  250\n",
      "[0 4 0 ... 7 5 6] [0 9 0 ... 7 5 6]\n",
      "0.8379024\n",
      "Iteration:  260\n",
      "[0 4 0 ... 7 5 6] [0 9 0 ... 7 5 6]\n",
      "0.8413902\n",
      "Iteration:  270\n",
      "[0 4 0 ... 7 5 6] [0 9 0 ... 7 5 6]\n",
      "0.84460974\n",
      "Iteration:  280\n",
      "[0 4 0 ... 7 5 6] [0 9 0 ... 7 5 6]\n",
      "0.84731704\n",
      "Iteration:  290\n",
      "[0 4 0 ... 7 5 6] [0 9 0 ... 7 5 6]\n",
      "0.8496585\n",
      "Iteration:  300\n",
      "[0 9 0 ... 7 5 6] [0 9 0 ... 7 5 6]\n",
      "0.8518536\n",
      "Iteration:  310\n",
      "[0 9 0 ... 7 5 6] [0 9 0 ... 7 5 6]\n",
      "0.8539268\n",
      "Iteration:  320\n",
      "[0 9 0 ... 7 5 6] [0 9 0 ... 7 5 6]\n",
      "0.85597557\n",
      "Iteration:  330\n",
      "[0 9 0 ... 7 5 6] [0 9 0 ... 7 5 6]\n",
      "0.858439\n",
      "Iteration:  340\n",
      "[0 9 0 ... 7 5 6] [0 9 0 ... 7 5 6]\n",
      "0.86048776\n",
      "Iteration:  350\n",
      "[0 9 0 ... 7 5 6] [0 9 0 ... 7 5 6]\n",
      "0.8626829\n",
      "Iteration:  360\n",
      "[0 9 0 ... 7 5 6] [0 9 0 ... 7 5 6]\n",
      "0.8646341\n",
      "Iteration:  370\n",
      "[0 9 0 ... 7 5 6] [0 9 0 ... 7 5 6]\n",
      "0.86631703\n",
      "Iteration:  380\n",
      "[0 9 0 ... 7 5 6] [0 9 0 ... 7 5 6]\n",
      "0.8682439\n",
      "Iteration:  390\n",
      "[0 9 0 ... 7 5 6] [0 9 0 ... 7 5 6]\n",
      "0.8697805\n",
      "Iteration:  400\n",
      "[0 9 0 ... 7 5 6] [0 9 0 ... 7 5 6]\n",
      "0.87156093\n",
      "Iteration:  410\n",
      "[0 9 0 ... 7 5 6] [0 9 0 ... 7 5 6]\n",
      "0.87292683\n",
      "Iteration:  420\n",
      "[0 9 0 ... 7 5 6] [0 9 0 ... 7 5 6]\n",
      "0.87424386\n",
      "Iteration:  430\n",
      "[0 9 0 ... 7 5 6] [0 9 0 ... 7 5 6]\n",
      "0.8752683\n",
      "Iteration:  440\n",
      "[0 9 0 ... 7 5 6] [0 9 0 ... 7 5 6]\n",
      "0.87653655\n",
      "Iteration:  450\n",
      "[0 9 0 ... 7 5 6] [0 9 0 ... 7 5 6]\n",
      "0.87778044\n",
      "Iteration:  460\n",
      "[0 9 0 ... 7 5 6] [0 9 0 ... 7 5 6]\n",
      "0.87899995\n",
      "Iteration:  470\n",
      "[0 9 0 ... 7 5 6] [0 9 0 ... 7 5 6]\n",
      "0.8800975\n",
      "Iteration:  480\n",
      "[0 9 0 ... 7 5 6] [0 9 0 ... 7 5 6]\n",
      "0.88119507\n",
      "Iteration:  490\n",
      "[0 9 0 ... 7 5 6] [0 9 0 ... 7 5 6]\n",
      "0.8823902\n"
     ]
    }
   ],
   "source": [
    "params = gradient_descent(X_train, Y_train, 0.10, 500)"
   ]
  },
  {
   "cell_type": "markdown",
   "metadata": {},
   "source": [
    "### Display predictions and saliency maps\n",
    "\n",
    "The jax \"grad\" function is used to extract the gradients used for the saliency map. The only gradients needed are the input gradients, hence agrnums=1. This is different to how grad is used for training, shown above. When training only the gradients for the models parameters are needed. Its also possible to extract the input gradients while training, which could be useful for debugging. As you can see below the only difference in the code to the standard gradients method is that the gradients are multiplied by the inputs before displaying the saliency map."
   ]
  },
  {
   "cell_type": "code",
   "execution_count": 12,
   "metadata": {},
   "outputs": [],
   "source": [
    "def make_predictions(X, params):\n",
    "    rng = jax.random.PRNGKey(42)\n",
    "    A2 = forward_fn.apply(params, X)\n",
    "    predictions = get_predictions(A2)\n",
    "    return predictions\n",
    "\n",
    "def extract_gradients(params, X, Y):\n",
    "    # Calculate the derivative WRT the input image\n",
    "    grads = grad(loss_fn, argnums=1)(params, X, Y)[0]\n",
    "    # Multiply gradients by the input\n",
    "    grads_x_inputs = grads * X\n",
    "\n",
    "    # Normalize the gradient values to be between 0-1\n",
    "    max_grad = np.max(grads_x_inputs)\n",
    "    min_grad = np.min(grads_x_inputs)\n",
    "    grads_x_inputs = (grads_x_inputs - min_grad) / (max_grad - min_grad)\n",
    "    # Convert the grads to uint8 for displaying\n",
    "    grads_x_inputs = np.uint8(grads_x_inputs * 255)\n",
    "    return grads_x_inputs  \n",
    "\n",
    "def display_prediction(index, params):\n",
    "    current_image = X_train[None, index]\n",
    "    prediction = make_predictions(X_train[None, index], params)\n",
    "    label = Y_train[index]\n",
    "    print(\"Prediction: \", prediction)\n",
    "    print(\"Label: \", label)\n",
    "\n",
    "    display_image = current_image.reshape((28, 28)) * 255\n",
    "    plt.gray()\n",
    "    plt.imshow(display_image, interpolation='nearest')\n",
    "    plt.axis('off')\n",
    "    plt.title(\"Input Image\")\n",
    "    plt.show()\n",
    "\n",
    "    image_grads = extract_gradients(params, current_image, label)\n",
    "    image_grads = image_grads.reshape((28, 28))\n",
    "    plt.gray()\n",
    "    plt.imshow(image_grads, interpolation='nearest')\n",
    "    plt.axis('off')\n",
    "    plt.title(\"Saliency Map\")\n",
    "    plt.show()"
   ]
  },
  {
   "cell_type": "code",
   "execution_count": 13,
   "metadata": {},
   "outputs": [
    {
     "name": "stdout",
     "output_type": "stream",
     "text": [
      "Prediction:  [0]\n",
      "Label:  0\n"
     ]
    },
    {
     "data": {
      "image/png": "[encoded data removed]",
      "text/plain": [
       "<Figure size 640x480 with 1 Axes>"
      ]
     },
     "metadata": {},
     "output_type": "display_data"
    },
    {
     "data": {
      "image/png": "[encoded data removed]",
      "text/plain": [
       "<Figure size 640x480 with 1 Axes>"
      ]
     },
     "metadata": {},
     "output_type": "display_data"
    },
    {
     "name": "stdout",
     "output_type": "stream",
     "text": [
      "Prediction:  [9]\n",
      "Label:  9\n"
     ]
    },
    {
     "data": {
      "image/png": "[encoded data removed]",
      "text/plain": [
       "<Figure size 640x480 with 1 Axes>"
      ]
     },
     "metadata": {},
     "output_type": "display_data"
    },
    {
     "data": {
      "image/png": "[encoded data removed]",
      "text/plain": [
       "<Figure size 640x480 with 1 Axes>"
      ]
     },
     "metadata": {},
     "output_type": "display_data"
    },
    {
     "name": "stdout",
     "output_type": "stream",
     "text": [
      "Prediction:  [0]\n",
      "Label:  0\n"
     ]
    },
    {
     "data": {
      "image/png": "[encoded data removed]",
      "text/plain": [
       "<Figure size 640x480 with 1 Axes>"
      ]
     },
     "metadata": {},
     "output_type": "display_data"
    },
    {
     "data": {
      "image/png": "[encoded data removed]",
      "text/plain": [
       "<Figure size 640x480 with 1 Axes>"
      ]
     },
     "metadata": {},
     "output_type": "display_data"
    },
    {
     "name": "stdout",
     "output_type": "stream",
     "text": [
      "Prediction:  [8]\n",
      "Label:  8\n"
     ]
    },
    {
     "data": {
      "image/png": "[encoded data removed]",
      "text/plain": [
       "<Figure size 640x480 with 1 Axes>"
      ]
     },
     "metadata": {},
     "output_type": "display_data"
    },
    {
     "data": {
      "image/png": "[encoded data removed]",
      "text/plain": [
       "<Figure size 640x480 with 1 Axes>"
      ]
     },
     "metadata": {},
     "output_type": "display_data"
    }
   ],
   "source": [
    "display_prediction(0, params)\n",
    "display_prediction(1, params)\n",
    "display_prediction(2, params)\n",
    "display_prediction(3, params)"
   ]
  }
 ],
 "metadata": {
  "kernelspec": {
   "display_name": "Python 3.9.13 ('flax')",
   "language": "python",
   "name": "python3"
  },
  "language_info": {
   "codemirror_mode": {
    "name": "ipython",
    "version": 3
   },
   "file_extension": ".py",
   "mimetype": "text/x-python",
   "name": "python",
   "nbconvert_exporter": "python",
   "pygments_lexer": "ipython3",
   "version": "3.9.13"
  },
  "orig_nbformat": 4,
  "vscode": {
   "interpreter": {
    "hash": "0a8d1f2580cdfde5c5829808ec6fccc81a351d243fb8b1925f7928e44ccf575b"
   }
  }
 },
 "nbformat": 4,
 "nbformat_minor": 2
}
